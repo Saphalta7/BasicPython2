{
 "cells": [
  {
   "cell_type": "raw",
   "id": "c2cc1a4e",
   "metadata": {},
   "source": [
    "   "
   ]
  },
  {
   "cell_type": "code",
   "execution_count": 1,
   "id": "3cc0092b",
   "metadata": {},
   "outputs": [
    {
     "name": "stdout",
     "output_type": "stream",
     "text": [
      "Hello World!\n"
     ]
    }
   ],
   "source": [
    "    print('Hello World!')"
   ]
  },
  {
   "cell_type": "code",
   "execution_count": 2,
   "id": "fda61306",
   "metadata": {},
   "outputs": [],
   "source": [
    "# First notebook"
   ]
  },
  {
   "cell_type": "code",
   "execution_count": 3,
   "id": "82a5c4da",
   "metadata": {},
   "outputs": [],
   "source": [
    "# Variables in Python\n"
   ]
  },
  {
   "cell_type": "code",
   "execution_count": 4,
   "id": "3411c8b8",
   "metadata": {},
   "outputs": [
    {
     "name": "stdout",
     "output_type": "stream",
     "text": [
      "22\n"
     ]
    }
   ],
   "source": [
    "x = 22\n",
    "print (x)"
   ]
  },
  {
   "cell_type": "code",
   "execution_count": 5,
   "id": "463c4ac2",
   "metadata": {},
   "outputs": [
    {
     "data": {
      "text/plain": [
       "int"
      ]
     },
     "execution_count": 5,
     "metadata": {},
     "output_type": "execute_result"
    }
   ],
   "source": [
    "type (x)"
   ]
  },
  {
   "cell_type": "code",
   "execution_count": 6,
   "id": "9ed34d26",
   "metadata": {},
   "outputs": [
    {
     "name": "stdout",
     "output_type": "stream",
     "text": [
      "saph\n"
     ]
    }
   ],
   "source": [
    "y = \"saph\"\n",
    "print (y)\n"
   ]
  },
  {
   "cell_type": "code",
   "execution_count": 7,
   "id": "19538cc6",
   "metadata": {},
   "outputs": [
    {
     "data": {
      "text/plain": [
       "str"
      ]
     },
     "execution_count": 7,
     "metadata": {},
     "output_type": "execute_result"
    }
   ],
   "source": [
    "type (y)"
   ]
  },
  {
   "cell_type": "code",
   "execution_count": 8,
   "id": "997ca66b",
   "metadata": {},
   "outputs": [
    {
     "data": {
      "text/plain": [
       "<function print(*args, sep=' ', end='\\n', file=None, flush=False)>"
      ]
     },
     "execution_count": 8,
     "metadata": {},
     "output_type": "execute_result"
    }
   ],
   "source": [
    "print "
   ]
  },
  {
   "cell_type": "code",
   "execution_count": 9,
   "id": "3a9b382b",
   "metadata": {},
   "outputs": [
    {
     "name": "stdout",
     "output_type": "stream",
     "text": [
      "choco\n",
      "ice\n",
      "love\n"
     ]
    }
   ],
   "source": [
    "x,y,z = 'choco', 'ice', 'love'\n",
    "print (x)\n",
    "print (y)\n",
    "print (z)\n",
    "\n"
   ]
  },
  {
   "cell_type": "code",
   "execution_count": 10,
   "id": "16f96b1f",
   "metadata": {},
   "outputs": [
    {
     "name": "stdout",
     "output_type": "stream",
     "text": [
      "love\n",
      "love\n",
      "love\n"
     ]
    }
   ],
   "source": [
    "x = y = z = \"love\"\n",
    "print (x)\n",
    "print (y)\n",
    "print (z)"
   ]
  },
  {
   "cell_type": "code",
   "execution_count": 11,
   "id": "74f7ec6f",
   "metadata": {},
   "outputs": [
    {
     "name": "stdout",
     "output_type": "stream",
     "text": [
      "choco\n",
      "ice\n",
      "mint\n"
     ]
    }
   ],
   "source": [
    "ice_cream = ['choco', 'ice', 'mint']\n",
    "x,y,z = ice_cream \n",
    "print (x)\n",
    "print (y)\n",
    "print (z)"
   ]
  },
  {
   "cell_type": "code",
   "execution_count": 12,
   "id": "c4635080",
   "metadata": {},
   "outputs": [],
   "source": [
    "# Camel Case\n",
    "# Test Variable Case\n",
    "testVariableCase = 'Vanilla'"
   ]
  },
  {
   "cell_type": "code",
   "execution_count": 13,
   "id": "39a9c426",
   "metadata": {},
   "outputs": [],
   "source": [
    "# Snake Case\n",
    "# Test Variable Case\n",
    "TestVariableCase = 'Vanilla'"
   ]
  },
  {
   "cell_type": "code",
   "execution_count": 14,
   "id": "60c7d0f3",
   "metadata": {},
   "outputs": [],
   "source": [
    "# Pascal Case\n",
    "# Test Variable Case\n",
    "test_variable_case = 'Vanilla'"
   ]
  },
  {
   "cell_type": "code",
   "execution_count": 15,
   "id": "c68e0c96",
   "metadata": {},
   "outputs": [],
   "source": [
    "#can do\n",
    "test_var = 'Vanilla'\n",
    "testvar = 'Vanilla'\n",
    "_test_var = 'Vanilla'\n",
    "TestVar = 'Vanilla'\n",
    "testvar2 = 'Vanilla'"
   ]
  },
  {
   "cell_type": "code",
   "execution_count": 16,
   "id": "97593e61",
   "metadata": {},
   "outputs": [
    {
     "ename": "SyntaxError",
     "evalue": "invalid decimal literal (3381605234.py, line 2)",
     "output_type": "error",
     "traceback": [
      "\u001b[1;36m  Cell \u001b[1;32mIn[16], line 2\u001b[1;36m\u001b[0m\n\u001b[1;33m    2testvar = 'Vanilla'\u001b[0m\n\u001b[1;37m    ^\u001b[0m\n\u001b[1;31mSyntaxError\u001b[0m\u001b[1;31m:\u001b[0m invalid decimal literal\n"
     ]
    }
   ],
   "source": [
    "# cannot do\n",
    "2testvar = 'Vanilla'\n",
    "_test-var = 'Vanilla'"
   ]
  },
  {
   "cell_type": "code",
   "execution_count": null,
   "id": "bd6af19c",
   "metadata": {},
   "outputs": [],
   "source": []
  },
  {
   "cell_type": "code",
   "execution_count": null,
   "id": "9ff80eaf",
   "metadata": {},
   "outputs": [],
   "source": [
    "x = 'Ice cream is my fav' + '.'\n",
    "print (x)"
   ]
  },
  {
   "cell_type": "code",
   "execution_count": null,
   "id": "3d0b5455",
   "metadata": {},
   "outputs": [],
   "source": [
    "cannot add str and int\n",
    "x = 'Ice cream is my fav' + '2'"
   ]
  },
  {
   "cell_type": "code",
   "execution_count": null,
   "id": "b525b440",
   "metadata": {},
   "outputs": [],
   "source": [
    "x = 5 + 2\n",
    "print(x)"
   ]
  },
  {
   "cell_type": "code",
   "execution_count": null,
   "id": "7b4e0a73",
   "metadata": {},
   "outputs": [],
   "source": [
    "x = 'Saph'\n",
    "y = ' is'\n",
    "z = ' a girl.'\n",
    "print(x+y+z)"
   ]
  },
  {
   "cell_type": "code",
   "execution_count": null,
   "id": "6c68777f",
   "metadata": {},
   "outputs": [],
   "source": [
    "#Data Types\n",
    "type(-12)\n"
   ]
  },
  {
   "cell_type": "code",
   "execution_count": null,
   "id": "4b375b2d",
   "metadata": {},
   "outputs": [],
   "source": [
    "type(-12+10.25)"
   ]
  },
  {
   "cell_type": "code",
   "execution_count": null,
   "id": "ec5f8401",
   "metadata": {},
   "outputs": [],
   "source": [
    "type(-12 + 3j)"
   ]
  },
  {
   "cell_type": "code",
   "execution_count": null,
   "id": "59215d8b",
   "metadata": {},
   "outputs": [],
   "source": [
    "#Boolean Data\n",
    "type(True)"
   ]
  },
  {
   "cell_type": "code",
   "execution_count": null,
   "id": "ad141ab6",
   "metadata": {},
   "outputs": [],
   "source": [
    "type(False)"
   ]
  },
  {
   "cell_type": "code",
   "execution_count": null,
   "id": "6d44d91e",
   "metadata": {},
   "outputs": [],
   "source": [
    "type(1 > 5)"
   ]
  },
  {
   "cell_type": "code",
   "execution_count": null,
   "id": "c0e82fe3",
   "metadata": {},
   "outputs": [],
   "source": [
    "1 > 5"
   ]
  },
  {
   "cell_type": "code",
   "execution_count": null,
   "id": "bbeca3fd",
   "metadata": {},
   "outputs": [],
   "source": [
    "1 == 1"
   ]
  },
  {
   "cell_type": "code",
   "execution_count": null,
   "id": "e33157cb",
   "metadata": {},
   "outputs": [],
   "source": [
    "#Sequence\n",
    "#Strings\n",
    "'Single quote'"
   ]
  },
  {
   "cell_type": "code",
   "execution_count": null,
   "id": "acc80c27",
   "metadata": {},
   "outputs": [],
   "source": [
    "\"Double quote\""
   ]
  },
  {
   "cell_type": "code",
   "execution_count": null,
   "id": "7cba231f",
   "metadata": {},
   "outputs": [],
   "source": [
    "multiline = \"\"\"\n",
    "I like icecream but i also like rice and meat plus idk everyhting\n",
    "\"\"\""
   ]
  },
  {
   "cell_type": "code",
   "execution_count": null,
   "id": "d1abcc14",
   "metadata": {},
   "outputs": [],
   "source": [
    "print(multiline)"
   ]
  },
  {
   "cell_type": "code",
   "execution_count": null,
   "id": "81a3e3f1",
   "metadata": {},
   "outputs": [],
   "source": [
    "\"\"\n",
    "I've always wanted to eat a galllon of \"icecream\".\n",
    "\"\"\n"
   ]
  },
  {
   "cell_type": "code",
   "execution_count": null,
   "id": "9e15c3d3",
   "metadata": {},
   "outputs": [],
   "source": [
    "type(multiline)"
   ]
  },
  {
   "cell_type": "code",
   "execution_count": null,
   "id": "33ba2a8d",
   "metadata": {},
   "outputs": [],
   "source": [
    "a = 'Hello World'"
   ]
  },
  {
   "cell_type": "code",
   "execution_count": null,
   "id": "50a0f331",
   "metadata": {},
   "outputs": [],
   "source": [
    "print(a[2:5])"
   ]
  },
  {
   "cell_type": "code",
   "execution_count": null,
   "id": "3df543f8",
   "metadata": {},
   "outputs": [],
   "source": [
    "a*3"
   ]
  },
  {
   "cell_type": "code",
   "execution_count": null,
   "id": "1736c09c",
   "metadata": {},
   "outputs": [],
   "source": [
    "a + 3"
   ]
  },
  {
   "cell_type": "code",
   "execution_count": null,
   "id": "b645d36f",
   "metadata": {},
   "outputs": [],
   "source": [
    "a + a"
   ]
  },
  {
   "cell_type": "code",
   "execution_count": null,
   "id": "1d2ebc6c",
   "metadata": {},
   "outputs": [],
   "source": [
    "#list\n",
    "[1,2,3]"
   ]
  },
  {
   "cell_type": "code",
   "execution_count": null,
   "id": "0545c2bd",
   "metadata": {},
   "outputs": [],
   "source": [
    "['Saph','SAW','RAM']"
   ]
  },
  {
   "cell_type": "code",
   "execution_count": null,
   "id": "faef1339",
   "metadata": {},
   "outputs": [],
   "source": [
    "     ['Vanilla', 3, ['Scoops', 'Spoon'], True]                                                               "
   ]
  },
  {
   "cell_type": "code",
   "execution_count": null,
   "id": "c750b9fd",
   "metadata": {},
   "outputs": [],
   "source": [
    "ice_cream = ['Vanilla', 3, ['Scoops', 'Spoon'], True] \n",
    "ice_cream.append('MINT')\n",
    "ice_cream"
   ]
  },
  {
   "cell_type": "code",
   "execution_count": null,
   "id": "3bb31049",
   "metadata": {},
   "outputs": [],
   "source": [
    "ice"
   ]
  },
  {
   "cell_type": "code",
   "execution_count": null,
   "id": "d3e94503",
   "metadata": {},
   "outputs": [],
   "source": [
    "ice_cream[0] = 'Oreo'\n",
    "ice_cream"
   ]
  },
  {
   "cell_type": "code",
   "execution_count": null,
   "id": "4610eeb6",
   "metadata": {},
   "outputs": [],
   "source": [
    "nest_list = ['Oreo', 3, ['Scoops', 'Spoon'], True, 'MINT']"
   ]
  },
  {
   "cell_type": "code",
   "execution_count": null,
   "id": "cc6ebe9a",
   "metadata": {},
   "outputs": [],
   "source": [
    "nest_list[2] [1]"
   ]
  },
  {
   "cell_type": "code",
   "execution_count": null,
   "id": "5ca032ec",
   "metadata": {},
   "outputs": [],
   "source": [
    "#tuple (you cannot add or change anything like list so we cannot use append function)\n",
    "tuple_scoops = (1,2,3,2,1)"
   ]
  },
  {
   "cell_type": "code",
   "execution_count": null,
   "id": "ff22fae0",
   "metadata": {},
   "outputs": [],
   "source": [
    "type(tuple_scoops) #check data type type(insert here...)"
   ]
  },
  {
   "cell_type": "code",
   "execution_count": null,
   "id": "eb573aed",
   "metadata": {},
   "outputs": [],
   "source": [
    "tuple_scoops[0] #we use it when the data is never going to change like country, location"
   ]
  },
  {
   "cell_type": "code",
   "execution_count": null,
   "id": "13a00fd6",
   "metadata": {},
   "outputs": [],
   "source": [
    "#Sets   (they donot have duplicates and cannot use index)\n",
    "\n",
    "daily_pints = {1,2,3}\n",
    "\n"
   ]
  },
  {
   "cell_type": "code",
   "execution_count": null,
   "id": "c9f932a5",
   "metadata": {},
   "outputs": [],
   "source": [
    "type(daily_pints)"
   ]
  },
  {
   "cell_type": "code",
   "execution_count": null,
   "id": "48ee0bce",
   "metadata": {},
   "outputs": [],
   "source": [
    "print(daily_pints)"
   ]
  },
  {
   "cell_type": "code",
   "execution_count": null,
   "id": "a1daf398",
   "metadata": {},
   "outputs": [],
   "source": [
    "daily_pints_log = {0,1,2,3,4,1,6,7,8,2,5,5,6,7,8}\n",
    "print(daily_pints_log)"
   ]
  },
  {
   "cell_type": "code",
   "execution_count": null,
   "id": "6bb2af5c",
   "metadata": {},
   "outputs": [],
   "source": [
    "wifes_daily_pints_log = {1,2,3,9,10,11,11,12,13,14,2,3,9}\n",
    "print(daily_pints_log & wifes_daily_pints_log)  #common"
   ]
  },
  {
   "cell_type": "code",
   "execution_count": null,
   "id": "4d9e7a4e",
   "metadata": {},
   "outputs": [],
   "source": [
    "print(daily_pints_log | wifes_daily_pints_log) #combine"
   ]
  },
  {
   "cell_type": "code",
   "execution_count": null,
   "id": "9ee6a02e",
   "metadata": {},
   "outputs": [],
   "source": [
    "print(daily_pints_log - wifes_daily_pints_log) #answer which doesnot match"
   ]
  },
  {
   "cell_type": "code",
   "execution_count": null,
   "id": "4810d3be",
   "metadata": {},
   "outputs": [],
   "source": [
    "print(wifes_daily_pints_log - daily_pints_log)"
   ]
  },
  {
   "cell_type": "code",
   "execution_count": 17,
   "id": "a47f5664",
   "metadata": {},
   "outputs": [
    {
     "ename": "NameError",
     "evalue": "name 'wifes_daily_pints_log' is not defined",
     "output_type": "error",
     "traceback": [
      "\u001b[1;31m---------------------------------------------------------------------------\u001b[0m",
      "\u001b[1;31mNameError\u001b[0m                                 Traceback (most recent call last)",
      "Cell \u001b[1;32mIn[17], line 1\u001b[0m\n\u001b[1;32m----> 1\u001b[0m \u001b[38;5;28mprint\u001b[39m(wifes_daily_pints_log \u001b[38;5;241m^\u001b[39m daily_pints_log)\n",
      "\u001b[1;31mNameError\u001b[0m: name 'wifes_daily_pints_log' is not defined"
     ]
    }
   ],
   "source": [
    "print(wifes_daily_pints_log ^ daily_pints_log) #unique to each sets\n",
    "#duitaima jun jun value chaena tyo value dekhau cha"
   ]
  },
  {
   "cell_type": "code",
   "execution_count": null,
   "id": "21e61778",
   "metadata": {},
   "outputs": [],
   "source": [
    "#dictionaries\n",
    "# key/VALUE Pair\n",
    "dict_cream = {'name': 'Alex','dailr intake' : 5, 'favorite ice cream': ['Oreo','Chocolate']}\n"
   ]
  },
  {
   "cell_type": "code",
   "execution_count": null,
   "id": "153a40bf",
   "metadata": {},
   "outputs": [],
   "source": [
    "type(dict_cream)"
   ]
  },
  {
   "cell_type": "code",
   "execution_count": null,
   "id": "6bce5d79",
   "metadata": {},
   "outputs": [],
   "source": [
    "dict_cream.values()"
   ]
  },
  {
   "cell_type": "code",
   "execution_count": null,
   "id": "e64788c8",
   "metadata": {},
   "outputs": [],
   "source": [
    "print(dict_cream)"
   ]
  },
  {
   "cell_type": "code",
   "execution_count": null,
   "id": "2ea7b6af",
   "metadata": {},
   "outputs": [],
   "source": [
    "dict_cream.keys()"
   ]
  },
  {
   "cell_type": "code",
   "execution_count": null,
   "id": "aea22e87",
   "metadata": {},
   "outputs": [],
   "source": [
    "dict_cream.items()"
   ]
  },
  {
   "cell_type": "code",
   "execution_count": null,
   "id": "9830aecc",
   "metadata": {},
   "outputs": [],
   "source": [
    "dict_cream['name']"
   ]
  },
  {
   "cell_type": "code",
   "execution_count": null,
   "id": "afb6a26f",
   "metadata": {},
   "outputs": [],
   "source": [
    "dict_cream['favorite ice cream']"
   ]
  },
  {
   "cell_type": "code",
   "execution_count": null,
   "id": "9771e62c",
   "metadata": {},
   "outputs": [],
   "source": [
    "dict_cream['name'] = 'Ram'\n",
    "print(dict_cream)"
   ]
  },
  {
   "cell_type": "code",
   "execution_count": null,
   "id": "4e6efb15",
   "metadata": {},
   "outputs": [],
   "source": [
    "dict_cream.update({'name': 'Ram', 'dailr intake': 5, 'weight': 300})"
   ]
  },
  {
   "cell_type": "code",
   "execution_count": null,
   "id": "7141b5a5",
   "metadata": {},
   "outputs": [],
   "source": [
    "print(dict_cream)"
   ]
  },
  {
   "cell_type": "code",
   "execution_count": null,
   "id": "3d1c635b",
   "metadata": {},
   "outputs": [],
   "source": [
    "del dict_cream['favorite ice cream']"
   ]
  },
  {
   "cell_type": "code",
   "execution_count": null,
   "id": "44b92300",
   "metadata": {},
   "outputs": [],
   "source": [
    "print(dict_cream)"
   ]
  },
  {
   "cell_type": "code",
   "execution_count": null,
   "id": "3cbf168c",
   "metadata": {},
   "outputs": [],
   "source": [
    "#operators\n",
    "5 == 50"
   ]
  },
  {
   "cell_type": "code",
   "execution_count": null,
   "id": "306db21c",
   "metadata": {},
   "outputs": [],
   "source": [
    "5 != 50"
   ]
  },
  {
   "cell_type": "code",
   "execution_count": null,
   "id": "34b62020",
   "metadata": {},
   "outputs": [],
   "source": [
    "'Vanilla' == 'Chocolate'\n",
    "'Vanilla' == 'Vanilla'"
   ]
  },
  {
   "cell_type": "code",
   "execution_count": null,
   "id": "e12133cc",
   "metadata": {},
   "outputs": [],
   "source": [
    "x = 'vanilla'\n",
    "y = 'Chocolate'\n",
    "x != y"
   ]
  },
  {
   "cell_type": "code",
   "execution_count": null,
   "id": "323b3861",
   "metadata": {},
   "outputs": [],
   "source": [
    "x == y"
   ]
  },
  {
   "cell_type": "code",
   "execution_count": null,
   "id": "3db21bc7",
   "metadata": {},
   "outputs": [],
   "source": [
    "50 >= 10 "
   ]
  },
  {
   "cell_type": "code",
   "execution_count": null,
   "id": "4dedc456",
   "metadata": {},
   "outputs": [],
   "source": [
    "(90 > 50) and (50 > 10) #duitai true statement ho vaney true aucha natra euta true euta false cha vaney false aucha"
   ]
  },
  {
   "cell_type": "code",
   "execution_count": null,
   "id": "8c413dca",
   "metadata": {},
   "outputs": [],
   "source": [
    "(10 > 50) or (50 > 10) #duitama euta matra correct ho avney pani true aucha"
   ]
  },
  {
   "cell_type": "code",
   "execution_count": null,
   "id": "b21db650",
   "metadata": {},
   "outputs": [],
   "source": [
    "not(50 > 10)"
   ]
  },
  {
   "cell_type": "code",
   "execution_count": null,
   "id": "b72db709",
   "metadata": {},
   "outputs": [],
   "source": [
    "ice_cream = 'I love choco ice cream.' #just checking if there is saph in the sentence or not\n",
    "'saph' in ice_cream"
   ]
  },
  {
   "cell_type": "code",
   "execution_count": null,
   "id": "5966c871",
   "metadata": {},
   "outputs": [],
   "source": [
    "scoops = [1,2,3,4,5,6] #searching if 1 is within the list\n",
    "1 in scoops"
   ]
  },
  {
   "cell_type": "code",
   "execution_count": null,
   "id": "2ea547f8",
   "metadata": {},
   "outputs": [],
   "source": [
    "scoops = [1,2,3,4,5,6]\n",
    "8 not in scoops"
   ]
  },
  {
   "cell_type": "code",
   "execution_count": null,
   "id": "d1a35707",
   "metadata": {},
   "outputs": [],
   "source": [
    "scoops = [1,2,3,4,5,6]\n",
    "wanted_scoops = 8\n",
    "wanted_scoops in scoops"
   ]
  },
  {
   "cell_type": "code",
   "execution_count": null,
   "id": "e86e6df8",
   "metadata": {},
   "outputs": [],
   "source": [
    "#IF Statement\n",
    "if 25  > 10:\n",
    "    print('works')"
   ]
  },
  {
   "cell_type": "code",
   "execution_count": null,
   "id": "15261c10",
   "metadata": {},
   "outputs": [],
   "source": [
    "if 25  > 10:\n",
    "    print('it works')\n",
    "else:\n",
    "    print('It did not work..')"
   ]
  },
  {
   "cell_type": "code",
   "execution_count": null,
   "id": "54f0f430",
   "metadata": {},
   "outputs": [],
   "source": [
    "if (25  < 10) or (1 < 3):\n",
    "    print('it worked')\n",
    "elif 25 < 20:\n",
    "    print('elif worked')\n",
    "elif 25 < 21:\n",
    "    print('elif 2 worked')\n",
    "elif 25 < 40:\n",
    "    print('elif 3 worked')\n",
    "elif 25 < 50:\n",
    "    print('elif 4 worked')\n",
    "else:\n",
    "    print('It did not work..')"
   ]
  },
  {
   "cell_type": "code",
   "execution_count": null,
   "id": "ea8fa13a",
   "metadata": {},
   "outputs": [],
   "source": [
    "print('it worked') if 10 > 30 else print('It did not work')"
   ]
  },
  {
   "cell_type": "code",
   "execution_count": null,
   "id": "af697031",
   "metadata": {},
   "outputs": [],
   "source": [
    "if (25  < 10) or (1 < 3):\n",
    "    print('it worked')\n",
    "    if 10 > 5:\n",
    "        print('This nested if statement worked')\n",
    "elif 25 < 20:\n",
    "    print('elif worked')\n",
    "elif 25 < 21:\n",
    "    print('elif 2 worked')\n",
    "elif 25 < 40:\n",
    "    print('elif 3 worked')\n",
    "elif 25 < 50:\n",
    "    print('elif 4 worked')\n",
    "else:\n",
    "    print('It did not work..')"
   ]
  },
  {
   "cell_type": "code",
   "execution_count": null,
   "id": "b0546b34",
   "metadata": {},
   "outputs": [],
   "source": [
    "#fOR lLoops\n",
    "integers = [1,2,3,4,5]\n",
    "for number in integers:\n",
    "    print(number)"
   ]
  },
  {
   "cell_type": "code",
   "execution_count": null,
   "id": "ae59d8c7",
   "metadata": {},
   "outputs": [],
   "source": [
    "for number in integers:\n",
    "    print('yep!')"
   ]
  },
  {
   "cell_type": "code",
   "execution_count": null,
   "id": "9f882d1c",
   "metadata": {},
   "outputs": [],
   "source": [
    "integers = [1,2,3,4,5]\n",
    "for Jelly in integers:\n",
    "    print(Jelly + Jelly)"
   ]
  },
  {
   "cell_type": "code",
   "execution_count": null,
   "id": "eafcc822",
   "metadata": {},
   "outputs": [],
   "source": [
    "ice_cream_dict = {'name': 'Saph', 'daily intake': 2, 'favorite': ['Mint','Choco']}                                                   "
   ]
  },
  {
   "cell_type": "code",
   "execution_count": null,
   "id": "af0c8649",
   "metadata": {},
   "outputs": [],
   "source": [
    "for cream in ice_cream_dict.values():\n",
    "    print(cream)"
   ]
  },
  {
   "cell_type": "code",
   "execution_count": null,
   "id": "0cdeb66b",
   "metadata": {},
   "outputs": [],
   "source": [
    "for cream in ice_cream_dict.keys():\n",
    "    print(cream)"
   ]
  },
  {
   "cell_type": "code",
   "execution_count": null,
   "id": "58068477",
   "metadata": {},
   "outputs": [],
   "source": [
    "for cream in ice_cream_dict.items():\n",
    "    print(cream)"
   ]
  },
  {
   "cell_type": "code",
   "execution_count": null,
   "id": "67e28d41",
   "metadata": {},
   "outputs": [],
   "source": [
    "for key, value in ice_cream_dict.items():\n",
    "    print(key, '->',value)"
   ]
  },
  {
   "cell_type": "code",
   "execution_count": null,
   "id": "0a40f00c",
   "metadata": {},
   "outputs": [],
   "source": [
    "#nested for loops\n",
    "flavors = ['choco', 'Vanilla', 'Strawberry', 'Mint']\n",
    "toppings = ['Oreo', 'Skittles', 'Hot Fudge']"
   ]
  },
  {
   "cell_type": "code",
   "execution_count": null,
   "id": "c18d546f",
   "metadata": {},
   "outputs": [],
   "source": [
    "for one in flavors:\n",
    "    for two in toppings:\n",
    "        print(one, 'topped with', two)"
   ]
  },
  {
   "cell_type": "code",
   "execution_count": null,
   "id": "07bf3ae6",
   "metadata": {},
   "outputs": [],
   "source": [
    "#While loops\n",
    "number = 0\n",
    "\n",
    "while number < 5:\n",
    "    print(number)\n",
    "    number = number + 1"
   ]
  },
  {
   "cell_type": "code",
   "execution_count": null,
   "id": "99dc3f54",
   "metadata": {},
   "outputs": [],
   "source": [
    "number = 0\n",
    "\n",
    "while number < 5:\n",
    "    print(number)\n",
    "    if number == 3:\n",
    "        break\n",
    "    number = number + 1"
   ]
  },
  {
   "cell_type": "code",
   "execution_count": null,
   "id": "46df6b64",
   "metadata": {},
   "outputs": [],
   "source": [
    "number = 0\n",
    "\n",
    "while number < 5:\n",
    "    print(number)\n",
    "    if number == 6:\n",
    "        break\n",
    "    number = number + 1\n",
    "else:\n",
    "    print('No longer < 5')"
   ]
  },
  {
   "cell_type": "code",
   "execution_count": null,
   "id": "b09e02ca",
   "metadata": {},
   "outputs": [],
   "source": [
    "number = 0\n",
    "\n",
    "while number < 5:\n",
    "    number = number + 1\n",
    "    if number == 3:\n",
    "        continue\n",
    "    print(number)\n",
    "else:\n",
    "    print('No longer < 5')"
   ]
  },
  {
   "cell_type": "code",
   "execution_count": null,
   "id": "6ea0a367",
   "metadata": {},
   "outputs": [],
   "source": [
    "number = 0\n",
    "\n",
    "while number < 5:\n",
    "    number = number + 1\n",
    "    if number == 3:\n",
    "        continue\n",
    "    print(number)\n",
    "else:\n",
    "    print('No longer < 5')"
   ]
  },
  {
   "cell_type": "code",
   "execution_count": null,
   "id": "f38d15d6",
   "metadata": {},
   "outputs": [],
   "source": [
    "#functions\n",
    "def first_func():\n",
    "    print('We did it')"
   ]
  },
  {
   "cell_type": "code",
   "execution_count": null,
   "id": "28369463",
   "metadata": {},
   "outputs": [],
   "source": [
    "first_func()"
   ]
  },
  {
   "cell_type": "code",
   "execution_count": null,
   "id": "c4c8a995",
   "metadata": {},
   "outputs": [],
   "source": [
    "def number_squared(number):\n",
    "    print(number**2)"
   ]
  },
  {
   "cell_type": "code",
   "execution_count": null,
   "id": "7069827d",
   "metadata": {},
   "outputs": [],
   "source": [
    "number_squared(6)"
   ]
  },
  {
   "cell_type": "code",
   "execution_count": null,
   "id": "67d01a75",
   "metadata": {},
   "outputs": [],
   "source": [
    "def number_squared_cus(number,power):\n",
    "    print(number**power)"
   ]
  },
  {
   "cell_type": "code",
   "execution_count": null,
   "id": "164161c2",
   "metadata": {},
   "outputs": [],
   "source": [
    "number_squared_cus(2,5)"
   ]
  },
  {
   "cell_type": "code",
   "execution_count": null,
   "id": "115cb2e8",
   "metadata": {},
   "outputs": [],
   "source": [
    "args_tuple = (5,6,1,2,8)\n",
    "\n",
    "def number_args(*number):\n",
    "    print(number[3]*number[1])"
   ]
  },
  {
   "cell_type": "code",
   "execution_count": null,
   "id": "73469671",
   "metadata": {},
   "outputs": [],
   "source": [
    "number_args(*args_tuple)"
   ]
  },
  {
   "cell_type": "code",
   "execution_count": null,
   "id": "ab7ff694",
   "metadata": {},
   "outputs": [],
   "source": [
    "def number_squared_cus(number,power):\n",
    "    print(number**power)"
   ]
  },
  {
   "cell_type": "code",
   "execution_count": null,
   "id": "12561686",
   "metadata": {},
   "outputs": [],
   "source": [
    "number_squared_cus(power = 5,number = 3)"
   ]
  },
  {
   "cell_type": "code",
   "execution_count": null,
   "id": "95da089a",
   "metadata": {},
   "outputs": [],
   "source": [
    "def number_kwarg(**number):\n",
    "    print('My number is: ' + number['integer'] + ' My other number: '+ number['integer2'])\n",
    "    \n"
   ]
  },
  {
   "cell_type": "code",
   "execution_count": null,
   "id": "12ccc09f",
   "metadata": {},
   "outputs": [],
   "source": [
    "number_kwarg(integer = '2309', integer2 = '349')"
   ]
  },
  {
   "cell_type": "code",
   "execution_count": null,
   "id": "453ffc0c",
   "metadata": {},
   "outputs": [],
   "source": [
    "#converting Data types\n",
    "\n",
    "num_int = 7\n",
    "type(num_int)"
   ]
  },
  {
   "cell_type": "code",
   "execution_count": null,
   "id": "db9da5e9",
   "metadata": {},
   "outputs": [],
   "source": []
  },
  {
   "cell_type": "code",
   "execution_count": null,
   "id": "b9f94e96",
   "metadata": {},
   "outputs": [],
   "source": [
    "num_string = '7'\n",
    "type(num_string)"
   ]
  },
  {
   "cell_type": "code",
   "execution_count": null,
   "id": "f5e58af6",
   "metadata": {},
   "outputs": [],
   "source": [
    "nun_string_conv = int(num_string)\n",
    "type(nun_string_conv)"
   ]
  },
  {
   "cell_type": "code",
   "execution_count": null,
   "id": "f69d8807",
   "metadata": {},
   "outputs": [],
   "source": [
    "num_sum = num_int + nun_string_conv \n",
    "print(num_sum)"
   ]
  },
  {
   "cell_type": "code",
   "execution_count": null,
   "id": "1114f643",
   "metadata": {},
   "outputs": [],
   "source": [
    "type(num_sum)"
   ]
  },
  {
   "cell_type": "code",
   "execution_count": null,
   "id": "283106b9",
   "metadata": {},
   "outputs": [],
   "source": [
    "list_type = [1,2,3]\n",
    "type(list_type)"
   ]
  },
  {
   "cell_type": "code",
   "execution_count": null,
   "id": "9a22e7d6",
   "metadata": {},
   "outputs": [],
   "source": [
    "type(tuple(list_type)) #converting list into tuple by doing tuple(list_type)"
   ]
  },
  {
   "cell_type": "code",
   "execution_count": null,
   "id": "fd380d41",
   "metadata": {},
   "outputs": [],
   "source": [
    "#convering list into a set\n",
    "list_type = [1,2,3,4,5,2,3,1,2,3]"
   ]
  },
  {
   "cell_type": "code",
   "execution_count": null,
   "id": "775dd948",
   "metadata": {},
   "outputs": [],
   "source": [
    "type(set(list_type))"
   ]
  },
  {
   "cell_type": "code",
   "execution_count": null,
   "id": "d6466826",
   "metadata": {},
   "outputs": [],
   "source": [
    "dict_type = {'name': 'Alex','age':18,'Hair': 'brown'}"
   ]
  },
  {
   "cell_type": "code",
   "execution_count": null,
   "id": "971150f7",
   "metadata": {},
   "outputs": [],
   "source": [
    "type(dict_type)"
   ]
  },
  {
   "cell_type": "code",
   "execution_count": null,
   "id": "b107d742",
   "metadata": {},
   "outputs": [],
   "source": [
    "dict_type.items()"
   ]
  },
  {
   "cell_type": "code",
   "execution_count": null,
   "id": "c90cec85",
   "metadata": {},
   "outputs": [],
   "source": [
    "dict_type.values()"
   ]
  },
  {
   "cell_type": "code",
   "execution_count": null,
   "id": "99885108",
   "metadata": {},
   "outputs": [],
   "source": [
    "dict_type.keys()"
   ]
  },
  {
   "cell_type": "code",
   "execution_count": null,
   "id": "f43052dc",
   "metadata": {},
   "outputs": [],
   "source": [
    "list(dict_type.keys())"
   ]
  },
  {
   "cell_type": "code",
   "execution_count": null,
   "id": "a0387e49",
   "metadata": {},
   "outputs": [],
   "source": [
    "type(list(dict_type.keys()))"
   ]
  },
  {
   "cell_type": "code",
   "execution_count": null,
   "id": "1aa73ceb",
   "metadata": {},
   "outputs": [],
   "source": [
    "type(list(dict_type.values()))"
   ]
  },
  {
   "cell_type": "code",
   "execution_count": null,
   "id": "8fad00c7",
   "metadata": {},
   "outputs": [],
   "source": [
    "long_str = 'I like to party'\n",
    "list(long_str)"
   ]
  },
  {
   "cell_type": "code",
   "execution_count": null,
   "id": "033c05de",
   "metadata": {},
   "outputs": [],
   "source": [
    "set(long_str)"
   ]
  },
  {
   "cell_type": "code",
   "execution_count": null,
   "id": "b3129fef",
   "metadata": {},
   "outputs": [],
   "source": [
    "#BMI Calculator\n",
    "name = input(\"Enter your name: \")\n",
    "weight = int(input(\"Enter your weight in pounds: \"))\n",
    "height = int(input(\"Enter your height in inches: \"))\n",
    "BMI = (weight * 703) / (height * height)\n",
    "print(BMI)\n",
    "if BMI>0:\n",
    "    if(BMI<18.5):\n",
    "        print(name +\", you are Underweight.\")\n",
    "    elif(BMI<=24.9):\n",
    "        print(name +\", you are Normal Weight.\")\n",
    "    elif(BMI<= 29.9):\n",
    "        print(name +\", you are Overweight.\")\n",
    "    elif(BMI<=34.9):\n",
    "        print(name +\", you are Obese.\")\n",
    "    elif(BMI<=39.9):\n",
    "        print(name +\", you are Severely Obese.\")\n",
    "    else:\n",
    "        print(name +\", you are over\tMorbidl Obese.\")\n",
    "else:\n",
    "    print(\"Enter valid input: \")"
   ]
  },
  {
   "cell_type": "code",
   "execution_count": null,
   "id": "b231bb91",
   "metadata": {},
   "outputs": [],
   "source": [
    "\n",
    "        "
   ]
  },
  {
   "cell_type": "code",
   "execution_count": null,
   "id": "f2da440f",
   "metadata": {},
   "outputs": [],
   "source": []
  },
  {
   "cell_type": "code",
   "execution_count": null,
   "id": "0232e4a2",
   "metadata": {},
   "outputs": [],
   "source": []
  },
  {
   "cell_type": "code",
   "execution_count": null,
   "id": "4a2d052c",
   "metadata": {},
   "outputs": [],
   "source": []
  },
  {
   "cell_type": "code",
   "execution_count": null,
   "id": "57f7cafd",
   "metadata": {},
   "outputs": [],
   "source": [
    "#BMI = (weight in pounds x 703) / (height in inches x height in inches)"
   ]
  },
  {
   "cell_type": "code",
   "execution_count": null,
   "id": "bc476d95",
   "metadata": {},
   "outputs": [],
   "source": [
    "print(weight)"
   ]
  },
  {
   "cell_type": "code",
   "execution_count": null,
   "id": "6c2a8759",
   "metadata": {},
   "outputs": [],
   "source": [
    "Under 18.5\tUnderweight\tMinimal\n",
    "18.5 - 24.9\tNormal Weight\tMinimal\n",
    "25 - 29.9\tOverweight\tIncreased\n",
    "30 - 34.9\tObese\tHigh\n",
    "35 - 39.9\tSeverely Obese\tVery High\n",
    "40 and over\tMorbidly Obese\tExtremely High"
   ]
  },
  {
   "cell_type": "code",
   "execution_count": null,
   "id": "770eb303",
   "metadata": {},
   "outputs": [],
   "source": []
  },
  {
   "cell_type": "code",
   "execution_count": null,
   "id": "ef708ee8",
   "metadata": {},
   "outputs": [],
   "source": [
    "#Automatic file sorter in file explorer"
   ]
  },
  {
   "cell_type": "code",
   "execution_count": null,
   "id": "280a0d99",
   "metadata": {},
   "outputs": [],
   "source": [
    "import os, shutil #os = operating system"
   ]
  },
  {
   "cell_type": "code",
   "execution_count": null,
   "id": "6375a8d4",
   "metadata": {},
   "outputs": [],
   "source": [
    "path = r\"C:\\DATAProject2023\\python/\""
   ]
  },
  {
   "cell_type": "code",
   "execution_count": null,
   "id": "7da1eab1",
   "metadata": {},
   "outputs": [],
   "source": [
    "file_name = os.listdir(path) #shows all the files in there "
   ]
  },
  {
   "cell_type": "code",
   "execution_count": null,
   "id": "0b134ca2",
   "metadata": {},
   "outputs": [],
   "source": [
    "folder_name = ['csv files', 'image files']\n",
    "for loop in range(0,2):\n",
    "    if not os.path.exists(path + folder_name[loop]): \n",
    "        print(path + folder_name[loop])#os.path.exists checks if the path already exists\n",
    "        os.makedirs((path + folder_name[loop]))"
   ]
  },
  {
   "cell_type": "code",
   "execution_count": null,
   "id": "21ed7bda",
   "metadata": {},
   "outputs": [],
   "source": [
    "for file in file_name:\n",
    "    if \".csv\" in file and not os.path.exists(path + \"csv files/\" + file):\n",
    "        shutil.move(path + file, path + \"csv files/\" + file)\n",
    "    elif \".png\" in file and not os.path.exists(path + \"image files/\" + file):\n",
    "        shutil.move(path + file, path + \"image files/\" + file)\n",
    "    else:\n",
    "        print(\"There are files in this path that were not moved.\")"
   ]
  },
  {
   "cell_type": "code",
   "execution_count": null,
   "id": "85f17ad6",
   "metadata": {},
   "outputs": [],
   "source": [
    "#Reading in Files in Pandas"
   ]
  },
  {
   "cell_type": "code",
   "execution_count": null,
   "id": "3963b19f",
   "metadata": {},
   "outputs": [],
   "source": [
    "import pandas as pd "
   ]
  },
  {
   "cell_type": "code",
   "execution_count": null,
   "id": "64da61c0",
   "metadata": {},
   "outputs": [],
   "source": [
    "df = pd.read_csv(r\"C:\\DATAProject2023\\python\\Pandas\\countries of the world.csv\")\n",
    "df    # pd.read_csv is used to read .csv files"
   ]
  },
  {
   "cell_type": "code",
   "execution_count": null,
   "id": "d5eec968",
   "metadata": {},
   "outputs": [],
   "source": [
    "df = pd.read_table(r\"C:\\DATAProject2023\\python\\Pandas\\countries of the world.txt\")\n",
    "df    #pd.read_table is used to read .txt files"
   ]
  },
  {
   "cell_type": "code",
   "execution_count": null,
   "id": "326535af",
   "metadata": {},
   "outputs": [],
   "source": [
    "df = pd.read_json(r\"C:\\DATAProject2023\\python\\Pandas\\json_sample.json\")\n",
    "df   #pd.read_json is used to read json files"
   ]
  },
  {
   "cell_type": "code",
   "execution_count": null,
   "id": "320af610",
   "metadata": {},
   "outputs": [],
   "source": [
    "df2 = pd.read_excel(r\"C:\\DATAProject2023\\python\\Pandas\\world_population_excel_workbook.xlsx\", sheet_name = 'Sheet1')\n",
    "df2   #pd.read_excel is usd to read xlsx i.e excel file"
   ]
  },
  {
   "cell_type": "code",
   "execution_count": null,
   "id": "54a45aac",
   "metadata": {},
   "outputs": [],
   "source": [
    "pd.set_option('display.max.rows', 235) #to show all the rows in the file\n",
    "pd.set_option('display.max.columns', 40) #to show all the columns in the file\n"
   ]
  },
  {
   "cell_type": "code",
   "execution_count": null,
   "id": "794cd590",
   "metadata": {},
   "outputs": [],
   "source": [
    "df2.info()"
   ]
  },
  {
   "cell_type": "code",
   "execution_count": null,
   "id": "cb2be26c",
   "metadata": {},
   "outputs": [],
   "source": [
    "df2.shape"
   ]
  },
  {
   "cell_type": "code",
   "execution_count": null,
   "id": "7e7535e9",
   "metadata": {},
   "outputs": [],
   "source": [
    "df2.head(10)"
   ]
  },
  {
   "cell_type": "code",
   "execution_count": null,
   "id": "01faa8a1",
   "metadata": {},
   "outputs": [],
   "source": [
    "df2.tail(10)"
   ]
  },
  {
   "cell_type": "code",
   "execution_count": null,
   "id": "e0b208c0",
   "metadata": {},
   "outputs": [],
   "source": [
    "df2['Rank']"
   ]
  },
  {
   "cell_type": "code",
   "execution_count": null,
   "id": "3995cd5d",
   "metadata": {},
   "outputs": [],
   "source": [
    "df2.loc[224]"
   ]
  },
  {
   "cell_type": "code",
   "execution_count": null,
   "id": "cfe882a5",
   "metadata": {},
   "outputs": [],
   "source": [
    "df2.iloc[224]"
   ]
  },
  {
   "cell_type": "code",
   "execution_count": 22,
   "id": "101b89a4",
   "metadata": {},
   "outputs": [],
   "source": [
    "#Filtering and ordering\n",
    "import pandas as pd"
   ]
  },
  {
   "cell_type": "code",
   "execution_count": 23,
   "id": "8b8c03d9",
   "metadata": {},
   "outputs": [],
   "source": [
    "df = pd.read_csv(r\"C:\\DATAProject2023\\python\\csv files\\world_population.csv\")"
   ]
  },
  {
   "cell_type": "code",
   "execution_count": 24,
   "id": "e95ae032",
   "metadata": {},
   "outputs": [
    {
     "data": {
      "text/html": [
       "<div>\n",
       "<style scoped>\n",
       "    .dataframe tbody tr th:only-of-type {\n",
       "        vertical-align: middle;\n",
       "    }\n",
       "\n",
       "    .dataframe tbody tr th {\n",
       "        vertical-align: top;\n",
       "    }\n",
       "\n",
       "    .dataframe thead th {\n",
       "        text-align: right;\n",
       "    }\n",
       "</style>\n",
       "<table border=\"1\" class=\"dataframe\">\n",
       "  <thead>\n",
       "    <tr style=\"text-align: right;\">\n",
       "      <th></th>\n",
       "      <th>Rank</th>\n",
       "      <th>CCA3</th>\n",
       "      <th>Country</th>\n",
       "      <th>Capital</th>\n",
       "      <th>Continent</th>\n",
       "      <th>2022 Population</th>\n",
       "      <th>2020 Population</th>\n",
       "      <th>2015 Population</th>\n",
       "      <th>2010 Population</th>\n",
       "      <th>2000 Population</th>\n",
       "      <th>1990 Population</th>\n",
       "      <th>1980 Population</th>\n",
       "      <th>1970 Population</th>\n",
       "      <th>Area (km²)</th>\n",
       "      <th>Density (per km²)</th>\n",
       "      <th>Growth Rate</th>\n",
       "      <th>World Population Percentage</th>\n",
       "    </tr>\n",
       "  </thead>\n",
       "  <tbody>\n",
       "    <tr>\n",
       "      <th>0</th>\n",
       "      <td>36</td>\n",
       "      <td>AFG</td>\n",
       "      <td>Afghanistan</td>\n",
       "      <td>Kabul</td>\n",
       "      <td>Asia</td>\n",
       "      <td>41128771.0</td>\n",
       "      <td>38972230.0</td>\n",
       "      <td>33753499.0</td>\n",
       "      <td>28189672.0</td>\n",
       "      <td>19542982.0</td>\n",
       "      <td>10694796.0</td>\n",
       "      <td>12486631.0</td>\n",
       "      <td>10752971.0</td>\n",
       "      <td>652230.0</td>\n",
       "      <td>63.0587</td>\n",
       "      <td>1.0257</td>\n",
       "      <td>0.52</td>\n",
       "    </tr>\n",
       "    <tr>\n",
       "      <th>1</th>\n",
       "      <td>138</td>\n",
       "      <td>ALB</td>\n",
       "      <td>Albania</td>\n",
       "      <td>Tirana</td>\n",
       "      <td>Europe</td>\n",
       "      <td>2842321.0</td>\n",
       "      <td>2866849.0</td>\n",
       "      <td>2882481.0</td>\n",
       "      <td>2913399.0</td>\n",
       "      <td>3182021.0</td>\n",
       "      <td>3295066.0</td>\n",
       "      <td>2941651.0</td>\n",
       "      <td>2324731.0</td>\n",
       "      <td>28748.0</td>\n",
       "      <td>98.8702</td>\n",
       "      <td>0.9957</td>\n",
       "      <td>0.04</td>\n",
       "    </tr>\n",
       "    <tr>\n",
       "      <th>2</th>\n",
       "      <td>34</td>\n",
       "      <td>DZA</td>\n",
       "      <td>Algeria</td>\n",
       "      <td>Algiers</td>\n",
       "      <td>Africa</td>\n",
       "      <td>44903225.0</td>\n",
       "      <td>43451666.0</td>\n",
       "      <td>39543154.0</td>\n",
       "      <td>35856344.0</td>\n",
       "      <td>30774621.0</td>\n",
       "      <td>25518074.0</td>\n",
       "      <td>18739378.0</td>\n",
       "      <td>13795915.0</td>\n",
       "      <td>2381741.0</td>\n",
       "      <td>18.8531</td>\n",
       "      <td>1.0164</td>\n",
       "      <td>0.56</td>\n",
       "    </tr>\n",
       "    <tr>\n",
       "      <th>3</th>\n",
       "      <td>213</td>\n",
       "      <td>ASM</td>\n",
       "      <td>American Samoa</td>\n",
       "      <td>Pago Pago</td>\n",
       "      <td>Oceania</td>\n",
       "      <td>44273.0</td>\n",
       "      <td>46189.0</td>\n",
       "      <td>51368.0</td>\n",
       "      <td>54849.0</td>\n",
       "      <td>58230.0</td>\n",
       "      <td>47818.0</td>\n",
       "      <td>32886.0</td>\n",
       "      <td>27075.0</td>\n",
       "      <td>199.0</td>\n",
       "      <td>222.4774</td>\n",
       "      <td>0.9831</td>\n",
       "      <td>0.00</td>\n",
       "    </tr>\n",
       "    <tr>\n",
       "      <th>4</th>\n",
       "      <td>203</td>\n",
       "      <td>AND</td>\n",
       "      <td>Andorra</td>\n",
       "      <td>Andorra la Vella</td>\n",
       "      <td>Europe</td>\n",
       "      <td>79824.0</td>\n",
       "      <td>77700.0</td>\n",
       "      <td>71746.0</td>\n",
       "      <td>71519.0</td>\n",
       "      <td>66097.0</td>\n",
       "      <td>53569.0</td>\n",
       "      <td>35611.0</td>\n",
       "      <td>19860.0</td>\n",
       "      <td>468.0</td>\n",
       "      <td>170.5641</td>\n",
       "      <td>1.0100</td>\n",
       "      <td>0.00</td>\n",
       "    </tr>\n",
       "    <tr>\n",
       "      <th>...</th>\n",
       "      <td>...</td>\n",
       "      <td>...</td>\n",
       "      <td>...</td>\n",
       "      <td>...</td>\n",
       "      <td>...</td>\n",
       "      <td>...</td>\n",
       "      <td>...</td>\n",
       "      <td>...</td>\n",
       "      <td>...</td>\n",
       "      <td>...</td>\n",
       "      <td>...</td>\n",
       "      <td>...</td>\n",
       "      <td>...</td>\n",
       "      <td>...</td>\n",
       "      <td>...</td>\n",
       "      <td>...</td>\n",
       "      <td>...</td>\n",
       "    </tr>\n",
       "    <tr>\n",
       "      <th>229</th>\n",
       "      <td>226</td>\n",
       "      <td>WLF</td>\n",
       "      <td>Wallis and Futuna</td>\n",
       "      <td>Mata-Utu</td>\n",
       "      <td>Oceania</td>\n",
       "      <td>11572.0</td>\n",
       "      <td>11655.0</td>\n",
       "      <td>12182.0</td>\n",
       "      <td>13142.0</td>\n",
       "      <td>14723.0</td>\n",
       "      <td>13454.0</td>\n",
       "      <td>11315.0</td>\n",
       "      <td>9377.0</td>\n",
       "      <td>142.0</td>\n",
       "      <td>81.4930</td>\n",
       "      <td>0.9953</td>\n",
       "      <td>0.00</td>\n",
       "    </tr>\n",
       "    <tr>\n",
       "      <th>230</th>\n",
       "      <td>172</td>\n",
       "      <td>ESH</td>\n",
       "      <td>Western Sahara</td>\n",
       "      <td>El Aaiún</td>\n",
       "      <td>Africa</td>\n",
       "      <td>575986.0</td>\n",
       "      <td>556048.0</td>\n",
       "      <td>491824.0</td>\n",
       "      <td>413296.0</td>\n",
       "      <td>270375.0</td>\n",
       "      <td>178529.0</td>\n",
       "      <td>116775.0</td>\n",
       "      <td>76371.0</td>\n",
       "      <td>266000.0</td>\n",
       "      <td>2.1654</td>\n",
       "      <td>1.0184</td>\n",
       "      <td>0.01</td>\n",
       "    </tr>\n",
       "    <tr>\n",
       "      <th>231</th>\n",
       "      <td>46</td>\n",
       "      <td>YEM</td>\n",
       "      <td>Yemen</td>\n",
       "      <td>Sanaa</td>\n",
       "      <td>Asia</td>\n",
       "      <td>33696614.0</td>\n",
       "      <td>32284046.0</td>\n",
       "      <td>28516545.0</td>\n",
       "      <td>24743946.0</td>\n",
       "      <td>18628700.0</td>\n",
       "      <td>13375121.0</td>\n",
       "      <td>9204938.0</td>\n",
       "      <td>6843607.0</td>\n",
       "      <td>527968.0</td>\n",
       "      <td>63.8232</td>\n",
       "      <td>1.0217</td>\n",
       "      <td>0.42</td>\n",
       "    </tr>\n",
       "    <tr>\n",
       "      <th>232</th>\n",
       "      <td>63</td>\n",
       "      <td>ZMB</td>\n",
       "      <td>Zambia</td>\n",
       "      <td>Lusaka</td>\n",
       "      <td>Africa</td>\n",
       "      <td>20017675.0</td>\n",
       "      <td>18927715.0</td>\n",
       "      <td>NaN</td>\n",
       "      <td>13792086.0</td>\n",
       "      <td>9891136.0</td>\n",
       "      <td>7686401.0</td>\n",
       "      <td>5720438.0</td>\n",
       "      <td>4281671.0</td>\n",
       "      <td>752612.0</td>\n",
       "      <td>26.5976</td>\n",
       "      <td>1.0280</td>\n",
       "      <td>0.25</td>\n",
       "    </tr>\n",
       "    <tr>\n",
       "      <th>233</th>\n",
       "      <td>74</td>\n",
       "      <td>ZWE</td>\n",
       "      <td>Zimbabwe</td>\n",
       "      <td>Harare</td>\n",
       "      <td>Africa</td>\n",
       "      <td>16320537.0</td>\n",
       "      <td>15669666.0</td>\n",
       "      <td>14154937.0</td>\n",
       "      <td>12839771.0</td>\n",
       "      <td>11834676.0</td>\n",
       "      <td>10113893.0</td>\n",
       "      <td>7049926.0</td>\n",
       "      <td>5202918.0</td>\n",
       "      <td>390757.0</td>\n",
       "      <td>41.7665</td>\n",
       "      <td>1.0204</td>\n",
       "      <td>0.20</td>\n",
       "    </tr>\n",
       "  </tbody>\n",
       "</table>\n",
       "<p>234 rows × 17 columns</p>\n",
       "</div>"
      ],
      "text/plain": [
       "     Rank CCA3            Country           Capital Continent  \\\n",
       "0      36  AFG        Afghanistan             Kabul      Asia   \n",
       "1     138  ALB            Albania            Tirana    Europe   \n",
       "2      34  DZA            Algeria           Algiers    Africa   \n",
       "3     213  ASM     American Samoa         Pago Pago   Oceania   \n",
       "4     203  AND            Andorra  Andorra la Vella    Europe   \n",
       "..    ...  ...                ...               ...       ...   \n",
       "229   226  WLF  Wallis and Futuna          Mata-Utu   Oceania   \n",
       "230   172  ESH     Western Sahara          El Aaiún    Africa   \n",
       "231    46  YEM              Yemen             Sanaa      Asia   \n",
       "232    63  ZMB             Zambia            Lusaka    Africa   \n",
       "233    74  ZWE           Zimbabwe            Harare    Africa   \n",
       "\n",
       "     2022 Population  2020 Population  2015 Population  2010 Population  \\\n",
       "0         41128771.0       38972230.0       33753499.0       28189672.0   \n",
       "1          2842321.0        2866849.0        2882481.0        2913399.0   \n",
       "2         44903225.0       43451666.0       39543154.0       35856344.0   \n",
       "3            44273.0          46189.0          51368.0          54849.0   \n",
       "4            79824.0          77700.0          71746.0          71519.0   \n",
       "..               ...              ...              ...              ...   \n",
       "229          11572.0          11655.0          12182.0          13142.0   \n",
       "230         575986.0         556048.0         491824.0         413296.0   \n",
       "231       33696614.0       32284046.0       28516545.0       24743946.0   \n",
       "232       20017675.0       18927715.0              NaN       13792086.0   \n",
       "233       16320537.0       15669666.0       14154937.0       12839771.0   \n",
       "\n",
       "     2000 Population  1990 Population  1980 Population  1970 Population  \\\n",
       "0         19542982.0       10694796.0       12486631.0       10752971.0   \n",
       "1          3182021.0        3295066.0        2941651.0        2324731.0   \n",
       "2         30774621.0       25518074.0       18739378.0       13795915.0   \n",
       "3            58230.0          47818.0          32886.0          27075.0   \n",
       "4            66097.0          53569.0          35611.0          19860.0   \n",
       "..               ...              ...              ...              ...   \n",
       "229          14723.0          13454.0          11315.0           9377.0   \n",
       "230         270375.0         178529.0         116775.0          76371.0   \n",
       "231       18628700.0       13375121.0        9204938.0        6843607.0   \n",
       "232        9891136.0        7686401.0        5720438.0        4281671.0   \n",
       "233       11834676.0       10113893.0        7049926.0        5202918.0   \n",
       "\n",
       "     Area (km²)  Density (per km²)  Growth Rate  World Population Percentage  \n",
       "0      652230.0            63.0587       1.0257                         0.52  \n",
       "1       28748.0            98.8702       0.9957                         0.04  \n",
       "2     2381741.0            18.8531       1.0164                         0.56  \n",
       "3         199.0           222.4774       0.9831                         0.00  \n",
       "4         468.0           170.5641       1.0100                         0.00  \n",
       "..          ...                ...          ...                          ...  \n",
       "229       142.0            81.4930       0.9953                         0.00  \n",
       "230    266000.0             2.1654       1.0184                         0.01  \n",
       "231    527968.0            63.8232       1.0217                         0.42  \n",
       "232    752612.0            26.5976       1.0280                         0.25  \n",
       "233    390757.0            41.7665       1.0204                         0.20  \n",
       "\n",
       "[234 rows x 17 columns]"
      ]
     },
     "execution_count": 24,
     "metadata": {},
     "output_type": "execute_result"
    }
   ],
   "source": [
    "df"
   ]
  },
  {
   "cell_type": "code",
   "execution_count": 25,
   "id": "c84d55df",
   "metadata": {},
   "outputs": [
    {
     "data": {
      "text/html": [
       "<div>\n",
       "<style scoped>\n",
       "    .dataframe tbody tr th:only-of-type {\n",
       "        vertical-align: middle;\n",
       "    }\n",
       "\n",
       "    .dataframe tbody tr th {\n",
       "        vertical-align: top;\n",
       "    }\n",
       "\n",
       "    .dataframe thead th {\n",
       "        text-align: right;\n",
       "    }\n",
       "</style>\n",
       "<table border=\"1\" class=\"dataframe\">\n",
       "  <thead>\n",
       "    <tr style=\"text-align: right;\">\n",
       "      <th></th>\n",
       "      <th>Rank</th>\n",
       "      <th>CCA3</th>\n",
       "      <th>Country</th>\n",
       "      <th>Capital</th>\n",
       "      <th>Continent</th>\n",
       "      <th>2022 Population</th>\n",
       "      <th>2020 Population</th>\n",
       "      <th>2015 Population</th>\n",
       "      <th>2010 Population</th>\n",
       "      <th>2000 Population</th>\n",
       "      <th>1990 Population</th>\n",
       "      <th>1980 Population</th>\n",
       "      <th>1970 Population</th>\n",
       "      <th>Area (km²)</th>\n",
       "      <th>Density (per km²)</th>\n",
       "      <th>Growth Rate</th>\n",
       "      <th>World Population Percentage</th>\n",
       "    </tr>\n",
       "  </thead>\n",
       "  <tbody>\n",
       "    <tr>\n",
       "      <th>16</th>\n",
       "      <td>8</td>\n",
       "      <td>BGD</td>\n",
       "      <td>Bangladesh</td>\n",
       "      <td>Dhaka</td>\n",
       "      <td>Asia</td>\n",
       "      <td>1.711864e+08</td>\n",
       "      <td>1.674210e+08</td>\n",
       "      <td>1.578300e+08</td>\n",
       "      <td>1.483911e+08</td>\n",
       "      <td>1.291933e+08</td>\n",
       "      <td>1.071477e+08</td>\n",
       "      <td>83929765.0</td>\n",
       "      <td>67541860.0</td>\n",
       "      <td>147570.0</td>\n",
       "      <td>1160.0350</td>\n",
       "      <td>1.0108</td>\n",
       "      <td>2.15</td>\n",
       "    </tr>\n",
       "    <tr>\n",
       "      <th>27</th>\n",
       "      <td>7</td>\n",
       "      <td>BRA</td>\n",
       "      <td>Brazil</td>\n",
       "      <td>Brasilia</td>\n",
       "      <td>South America</td>\n",
       "      <td>2.153135e+08</td>\n",
       "      <td>2.131963e+08</td>\n",
       "      <td>2.051882e+08</td>\n",
       "      <td>1.963535e+08</td>\n",
       "      <td>1.758737e+08</td>\n",
       "      <td>1.507064e+08</td>\n",
       "      <td>122288383.0</td>\n",
       "      <td>96369875.0</td>\n",
       "      <td>8515767.0</td>\n",
       "      <td>25.2841</td>\n",
       "      <td>1.0046</td>\n",
       "      <td>2.70</td>\n",
       "    </tr>\n",
       "    <tr>\n",
       "      <th>41</th>\n",
       "      <td>1</td>\n",
       "      <td>CHN</td>\n",
       "      <td>China</td>\n",
       "      <td>Beijing</td>\n",
       "      <td>Asia</td>\n",
       "      <td>1.425887e+09</td>\n",
       "      <td>1.424930e+09</td>\n",
       "      <td>1.393715e+09</td>\n",
       "      <td>1.348191e+09</td>\n",
       "      <td>1.264099e+09</td>\n",
       "      <td>1.153704e+09</td>\n",
       "      <td>982372466.0</td>\n",
       "      <td>822534450.0</td>\n",
       "      <td>9706961.0</td>\n",
       "      <td>146.8933</td>\n",
       "      <td>1.0000</td>\n",
       "      <td>17.88</td>\n",
       "    </tr>\n",
       "    <tr>\n",
       "      <th>92</th>\n",
       "      <td>2</td>\n",
       "      <td>IND</td>\n",
       "      <td>India</td>\n",
       "      <td>New Delhi</td>\n",
       "      <td>Asia</td>\n",
       "      <td>1.417173e+09</td>\n",
       "      <td>1.396387e+09</td>\n",
       "      <td>1.322867e+09</td>\n",
       "      <td>1.240614e+09</td>\n",
       "      <td>1.059634e+09</td>\n",
       "      <td>NaN</td>\n",
       "      <td>NaN</td>\n",
       "      <td>557501301.0</td>\n",
       "      <td>3287590.0</td>\n",
       "      <td>431.0675</td>\n",
       "      <td>1.0068</td>\n",
       "      <td>17.77</td>\n",
       "    </tr>\n",
       "    <tr>\n",
       "      <th>93</th>\n",
       "      <td>4</td>\n",
       "      <td>IDN</td>\n",
       "      <td>Indonesia</td>\n",
       "      <td>Jakarta</td>\n",
       "      <td>Asia</td>\n",
       "      <td>2.755013e+08</td>\n",
       "      <td>2.718580e+08</td>\n",
       "      <td>2.590920e+08</td>\n",
       "      <td>2.440162e+08</td>\n",
       "      <td>2.140724e+08</td>\n",
       "      <td>1.821599e+08</td>\n",
       "      <td>148177096.0</td>\n",
       "      <td>115228394.0</td>\n",
       "      <td>1904569.0</td>\n",
       "      <td>144.6529</td>\n",
       "      <td>1.0064</td>\n",
       "      <td>3.45</td>\n",
       "    </tr>\n",
       "    <tr>\n",
       "      <th>131</th>\n",
       "      <td>10</td>\n",
       "      <td>MEX</td>\n",
       "      <td>Mexico</td>\n",
       "      <td>Mexico City</td>\n",
       "      <td>North America</td>\n",
       "      <td>1.275041e+08</td>\n",
       "      <td>1.259983e+08</td>\n",
       "      <td>1.201499e+08</td>\n",
       "      <td>1.125324e+08</td>\n",
       "      <td>9.787344e+07</td>\n",
       "      <td>8.172043e+07</td>\n",
       "      <td>67705186.0</td>\n",
       "      <td>50289306.0</td>\n",
       "      <td>1964375.0</td>\n",
       "      <td>64.9082</td>\n",
       "      <td>1.0063</td>\n",
       "      <td>1.60</td>\n",
       "    </tr>\n",
       "    <tr>\n",
       "      <th>149</th>\n",
       "      <td>6</td>\n",
       "      <td>NGA</td>\n",
       "      <td>Nigeria</td>\n",
       "      <td>Abuja</td>\n",
       "      <td>Africa</td>\n",
       "      <td>2.185412e+08</td>\n",
       "      <td>2.083274e+08</td>\n",
       "      <td>1.839958e+08</td>\n",
       "      <td>1.609529e+08</td>\n",
       "      <td>1.228520e+08</td>\n",
       "      <td>9.521426e+07</td>\n",
       "      <td>72951439.0</td>\n",
       "      <td>55569264.0</td>\n",
       "      <td>923768.0</td>\n",
       "      <td>236.5759</td>\n",
       "      <td>1.0241</td>\n",
       "      <td>2.74</td>\n",
       "    </tr>\n",
       "    <tr>\n",
       "      <th>156</th>\n",
       "      <td>5</td>\n",
       "      <td>PAK</td>\n",
       "      <td>Pakistan</td>\n",
       "      <td>Islamabad</td>\n",
       "      <td>Asia</td>\n",
       "      <td>2.358249e+08</td>\n",
       "      <td>2.271967e+08</td>\n",
       "      <td>2.109693e+08</td>\n",
       "      <td>1.944545e+08</td>\n",
       "      <td>1.543699e+08</td>\n",
       "      <td>1.154141e+08</td>\n",
       "      <td>80624057.0</td>\n",
       "      <td>59290872.0</td>\n",
       "      <td>881912.0</td>\n",
       "      <td>267.4018</td>\n",
       "      <td>1.0191</td>\n",
       "      <td>2.96</td>\n",
       "    </tr>\n",
       "    <tr>\n",
       "      <th>171</th>\n",
       "      <td>9</td>\n",
       "      <td>RUS</td>\n",
       "      <td>Russia</td>\n",
       "      <td>Moscow</td>\n",
       "      <td>Europe</td>\n",
       "      <td>1.447133e+08</td>\n",
       "      <td>1.456173e+08</td>\n",
       "      <td>1.446684e+08</td>\n",
       "      <td>1.432426e+08</td>\n",
       "      <td>1.468448e+08</td>\n",
       "      <td>1.480057e+08</td>\n",
       "      <td>138257420.0</td>\n",
       "      <td>130093010.0</td>\n",
       "      <td>17098242.0</td>\n",
       "      <td>8.4636</td>\n",
       "      <td>0.9973</td>\n",
       "      <td>1.81</td>\n",
       "    </tr>\n",
       "    <tr>\n",
       "      <th>221</th>\n",
       "      <td>3</td>\n",
       "      <td>USA</td>\n",
       "      <td>United States</td>\n",
       "      <td>Washington, D.C.</td>\n",
       "      <td>North America</td>\n",
       "      <td>3.382899e+08</td>\n",
       "      <td>3.359420e+08</td>\n",
       "      <td>3.246078e+08</td>\n",
       "      <td>3.111828e+08</td>\n",
       "      <td>2.823986e+08</td>\n",
       "      <td>2.480837e+08</td>\n",
       "      <td>223140018.0</td>\n",
       "      <td>200328340.0</td>\n",
       "      <td>9372610.0</td>\n",
       "      <td>36.0935</td>\n",
       "      <td>1.0038</td>\n",
       "      <td>4.24</td>\n",
       "    </tr>\n",
       "  </tbody>\n",
       "</table>\n",
       "</div>"
      ],
      "text/plain": [
       "     Rank CCA3        Country           Capital      Continent  \\\n",
       "16      8  BGD     Bangladesh             Dhaka           Asia   \n",
       "27      7  BRA         Brazil          Brasilia  South America   \n",
       "41      1  CHN          China           Beijing           Asia   \n",
       "92      2  IND          India         New Delhi           Asia   \n",
       "93      4  IDN      Indonesia           Jakarta           Asia   \n",
       "131    10  MEX         Mexico       Mexico City  North America   \n",
       "149     6  NGA        Nigeria             Abuja         Africa   \n",
       "156     5  PAK       Pakistan         Islamabad           Asia   \n",
       "171     9  RUS         Russia            Moscow         Europe   \n",
       "221     3  USA  United States  Washington, D.C.  North America   \n",
       "\n",
       "     2022 Population  2020 Population  2015 Population  2010 Population  \\\n",
       "16      1.711864e+08     1.674210e+08     1.578300e+08     1.483911e+08   \n",
       "27      2.153135e+08     2.131963e+08     2.051882e+08     1.963535e+08   \n",
       "41      1.425887e+09     1.424930e+09     1.393715e+09     1.348191e+09   \n",
       "92      1.417173e+09     1.396387e+09     1.322867e+09     1.240614e+09   \n",
       "93      2.755013e+08     2.718580e+08     2.590920e+08     2.440162e+08   \n",
       "131     1.275041e+08     1.259983e+08     1.201499e+08     1.125324e+08   \n",
       "149     2.185412e+08     2.083274e+08     1.839958e+08     1.609529e+08   \n",
       "156     2.358249e+08     2.271967e+08     2.109693e+08     1.944545e+08   \n",
       "171     1.447133e+08     1.456173e+08     1.446684e+08     1.432426e+08   \n",
       "221     3.382899e+08     3.359420e+08     3.246078e+08     3.111828e+08   \n",
       "\n",
       "     2000 Population  1990 Population  1980 Population  1970 Population  \\\n",
       "16      1.291933e+08     1.071477e+08       83929765.0       67541860.0   \n",
       "27      1.758737e+08     1.507064e+08      122288383.0       96369875.0   \n",
       "41      1.264099e+09     1.153704e+09      982372466.0      822534450.0   \n",
       "92      1.059634e+09              NaN              NaN      557501301.0   \n",
       "93      2.140724e+08     1.821599e+08      148177096.0      115228394.0   \n",
       "131     9.787344e+07     8.172043e+07       67705186.0       50289306.0   \n",
       "149     1.228520e+08     9.521426e+07       72951439.0       55569264.0   \n",
       "156     1.543699e+08     1.154141e+08       80624057.0       59290872.0   \n",
       "171     1.468448e+08     1.480057e+08      138257420.0      130093010.0   \n",
       "221     2.823986e+08     2.480837e+08      223140018.0      200328340.0   \n",
       "\n",
       "     Area (km²)  Density (per km²)  Growth Rate  World Population Percentage  \n",
       "16     147570.0          1160.0350       1.0108                         2.15  \n",
       "27    8515767.0            25.2841       1.0046                         2.70  \n",
       "41    9706961.0           146.8933       1.0000                        17.88  \n",
       "92    3287590.0           431.0675       1.0068                        17.77  \n",
       "93    1904569.0           144.6529       1.0064                         3.45  \n",
       "131   1964375.0            64.9082       1.0063                         1.60  \n",
       "149    923768.0           236.5759       1.0241                         2.74  \n",
       "156    881912.0           267.4018       1.0191                         2.96  \n",
       "171  17098242.0             8.4636       0.9973                         1.81  \n",
       "221   9372610.0            36.0935       1.0038                         4.24  "
      ]
     },
     "execution_count": 25,
     "metadata": {},
     "output_type": "execute_result"
    }
   ],
   "source": [
    "df[df['Rank'] <= 10]"
   ]
  },
  {
   "cell_type": "code",
   "execution_count": 26,
   "id": "72eb29d2",
   "metadata": {},
   "outputs": [
    {
     "data": {
      "text/html": [
       "<div>\n",
       "<style scoped>\n",
       "    .dataframe tbody tr th:only-of-type {\n",
       "        vertical-align: middle;\n",
       "    }\n",
       "\n",
       "    .dataframe tbody tr th {\n",
       "        vertical-align: top;\n",
       "    }\n",
       "\n",
       "    .dataframe thead th {\n",
       "        text-align: right;\n",
       "    }\n",
       "</style>\n",
       "<table border=\"1\" class=\"dataframe\">\n",
       "  <thead>\n",
       "    <tr style=\"text-align: right;\">\n",
       "      <th></th>\n",
       "      <th>Rank</th>\n",
       "      <th>CCA3</th>\n",
       "      <th>Country</th>\n",
       "      <th>Capital</th>\n",
       "      <th>Continent</th>\n",
       "      <th>2022 Population</th>\n",
       "      <th>2020 Population</th>\n",
       "      <th>2015 Population</th>\n",
       "      <th>2010 Population</th>\n",
       "      <th>2000 Population</th>\n",
       "      <th>1990 Population</th>\n",
       "      <th>1980 Population</th>\n",
       "      <th>1970 Population</th>\n",
       "      <th>Area (km²)</th>\n",
       "      <th>Density (per km²)</th>\n",
       "      <th>Growth Rate</th>\n",
       "      <th>World Population Percentage</th>\n",
       "    </tr>\n",
       "  </thead>\n",
       "  <tbody>\n",
       "    <tr>\n",
       "      <th>16</th>\n",
       "      <td>8</td>\n",
       "      <td>BGD</td>\n",
       "      <td>Bangladesh</td>\n",
       "      <td>Dhaka</td>\n",
       "      <td>Asia</td>\n",
       "      <td>171186372.0</td>\n",
       "      <td>167420951.0</td>\n",
       "      <td>157830000.0</td>\n",
       "      <td>148391139.0</td>\n",
       "      <td>129193327.0</td>\n",
       "      <td>107147651.0</td>\n",
       "      <td>83929765.0</td>\n",
       "      <td>67541860.0</td>\n",
       "      <td>147570.0</td>\n",
       "      <td>1160.0350</td>\n",
       "      <td>1.0108</td>\n",
       "      <td>2.15</td>\n",
       "    </tr>\n",
       "    <tr>\n",
       "      <th>27</th>\n",
       "      <td>7</td>\n",
       "      <td>BRA</td>\n",
       "      <td>Brazil</td>\n",
       "      <td>Brasilia</td>\n",
       "      <td>South America</td>\n",
       "      <td>215313498.0</td>\n",
       "      <td>213196304.0</td>\n",
       "      <td>205188205.0</td>\n",
       "      <td>196353492.0</td>\n",
       "      <td>175873720.0</td>\n",
       "      <td>150706446.0</td>\n",
       "      <td>122288383.0</td>\n",
       "      <td>96369875.0</td>\n",
       "      <td>8515767.0</td>\n",
       "      <td>25.2841</td>\n",
       "      <td>1.0046</td>\n",
       "      <td>2.70</td>\n",
       "    </tr>\n",
       "  </tbody>\n",
       "</table>\n",
       "</div>"
      ],
      "text/plain": [
       "    Rank CCA3     Country   Capital      Continent  2022 Population  \\\n",
       "16     8  BGD  Bangladesh     Dhaka           Asia      171186372.0   \n",
       "27     7  BRA      Brazil  Brasilia  South America      215313498.0   \n",
       "\n",
       "    2020 Population  2015 Population  2010 Population  2000 Population  \\\n",
       "16      167420951.0      157830000.0      148391139.0      129193327.0   \n",
       "27      213196304.0      205188205.0      196353492.0      175873720.0   \n",
       "\n",
       "    1990 Population  1980 Population  1970 Population  Area (km²)  \\\n",
       "16      107147651.0       83929765.0       67541860.0    147570.0   \n",
       "27      150706446.0      122288383.0       96369875.0   8515767.0   \n",
       "\n",
       "    Density (per km²)  Growth Rate  World Population Percentage  \n",
       "16          1160.0350       1.0108                         2.15  \n",
       "27            25.2841       1.0046                         2.70  "
      ]
     },
     "execution_count": 26,
     "metadata": {},
     "output_type": "execute_result"
    }
   ],
   "source": [
    "specific_countries = ['Bangladesh','Brazil']\n",
    "df[df['Country'].isin(specific_countries)]"
   ]
  },
  {
   "cell_type": "code",
   "execution_count": 27,
   "id": "f0b5b9c4",
   "metadata": {},
   "outputs": [
    {
     "data": {
      "text/html": [
       "<div>\n",
       "<style scoped>\n",
       "    .dataframe tbody tr th:only-of-type {\n",
       "        vertical-align: middle;\n",
       "    }\n",
       "\n",
       "    .dataframe tbody tr th {\n",
       "        vertical-align: top;\n",
       "    }\n",
       "\n",
       "    .dataframe thead th {\n",
       "        text-align: right;\n",
       "    }\n",
       "</style>\n",
       "<table border=\"1\" class=\"dataframe\">\n",
       "  <thead>\n",
       "    <tr style=\"text-align: right;\">\n",
       "      <th></th>\n",
       "      <th>Rank</th>\n",
       "      <th>CCA3</th>\n",
       "      <th>Capital</th>\n",
       "      <th>Continent</th>\n",
       "      <th>2022 Population</th>\n",
       "      <th>2020 Population</th>\n",
       "      <th>2015 Population</th>\n",
       "      <th>2010 Population</th>\n",
       "      <th>2000 Population</th>\n",
       "      <th>1990 Population</th>\n",
       "      <th>1980 Population</th>\n",
       "      <th>1970 Population</th>\n",
       "      <th>Area (km²)</th>\n",
       "      <th>Density (per km²)</th>\n",
       "      <th>Growth Rate</th>\n",
       "      <th>World Population Percentage</th>\n",
       "    </tr>\n",
       "    <tr>\n",
       "      <th>Country</th>\n",
       "      <th></th>\n",
       "      <th></th>\n",
       "      <th></th>\n",
       "      <th></th>\n",
       "      <th></th>\n",
       "      <th></th>\n",
       "      <th></th>\n",
       "      <th></th>\n",
       "      <th></th>\n",
       "      <th></th>\n",
       "      <th></th>\n",
       "      <th></th>\n",
       "      <th></th>\n",
       "      <th></th>\n",
       "      <th></th>\n",
       "      <th></th>\n",
       "    </tr>\n",
       "  </thead>\n",
       "  <tbody>\n",
       "    <tr>\n",
       "      <th>Afghanistan</th>\n",
       "      <td>36</td>\n",
       "      <td>AFG</td>\n",
       "      <td>Kabul</td>\n",
       "      <td>Asia</td>\n",
       "      <td>41128771.0</td>\n",
       "      <td>38972230.0</td>\n",
       "      <td>33753499.0</td>\n",
       "      <td>28189672.0</td>\n",
       "      <td>19542982.0</td>\n",
       "      <td>10694796.0</td>\n",
       "      <td>12486631.0</td>\n",
       "      <td>10752971.0</td>\n",
       "      <td>652230.0</td>\n",
       "      <td>63.0587</td>\n",
       "      <td>1.0257</td>\n",
       "      <td>0.52</td>\n",
       "    </tr>\n",
       "    <tr>\n",
       "      <th>Albania</th>\n",
       "      <td>138</td>\n",
       "      <td>ALB</td>\n",
       "      <td>Tirana</td>\n",
       "      <td>Europe</td>\n",
       "      <td>2842321.0</td>\n",
       "      <td>2866849.0</td>\n",
       "      <td>2882481.0</td>\n",
       "      <td>2913399.0</td>\n",
       "      <td>3182021.0</td>\n",
       "      <td>3295066.0</td>\n",
       "      <td>2941651.0</td>\n",
       "      <td>2324731.0</td>\n",
       "      <td>28748.0</td>\n",
       "      <td>98.8702</td>\n",
       "      <td>0.9957</td>\n",
       "      <td>0.04</td>\n",
       "    </tr>\n",
       "    <tr>\n",
       "      <th>Algeria</th>\n",
       "      <td>34</td>\n",
       "      <td>DZA</td>\n",
       "      <td>Algiers</td>\n",
       "      <td>Africa</td>\n",
       "      <td>44903225.0</td>\n",
       "      <td>43451666.0</td>\n",
       "      <td>39543154.0</td>\n",
       "      <td>35856344.0</td>\n",
       "      <td>30774621.0</td>\n",
       "      <td>25518074.0</td>\n",
       "      <td>18739378.0</td>\n",
       "      <td>13795915.0</td>\n",
       "      <td>2381741.0</td>\n",
       "      <td>18.8531</td>\n",
       "      <td>1.0164</td>\n",
       "      <td>0.56</td>\n",
       "    </tr>\n",
       "    <tr>\n",
       "      <th>American Samoa</th>\n",
       "      <td>213</td>\n",
       "      <td>ASM</td>\n",
       "      <td>Pago Pago</td>\n",
       "      <td>Oceania</td>\n",
       "      <td>44273.0</td>\n",
       "      <td>46189.0</td>\n",
       "      <td>51368.0</td>\n",
       "      <td>54849.0</td>\n",
       "      <td>58230.0</td>\n",
       "      <td>47818.0</td>\n",
       "      <td>32886.0</td>\n",
       "      <td>27075.0</td>\n",
       "      <td>199.0</td>\n",
       "      <td>222.4774</td>\n",
       "      <td>0.9831</td>\n",
       "      <td>0.00</td>\n",
       "    </tr>\n",
       "    <tr>\n",
       "      <th>Andorra</th>\n",
       "      <td>203</td>\n",
       "      <td>AND</td>\n",
       "      <td>Andorra la Vella</td>\n",
       "      <td>Europe</td>\n",
       "      <td>79824.0</td>\n",
       "      <td>77700.0</td>\n",
       "      <td>71746.0</td>\n",
       "      <td>71519.0</td>\n",
       "      <td>66097.0</td>\n",
       "      <td>53569.0</td>\n",
       "      <td>35611.0</td>\n",
       "      <td>19860.0</td>\n",
       "      <td>468.0</td>\n",
       "      <td>170.5641</td>\n",
       "      <td>1.0100</td>\n",
       "      <td>0.00</td>\n",
       "    </tr>\n",
       "    <tr>\n",
       "      <th>...</th>\n",
       "      <td>...</td>\n",
       "      <td>...</td>\n",
       "      <td>...</td>\n",
       "      <td>...</td>\n",
       "      <td>...</td>\n",
       "      <td>...</td>\n",
       "      <td>...</td>\n",
       "      <td>...</td>\n",
       "      <td>...</td>\n",
       "      <td>...</td>\n",
       "      <td>...</td>\n",
       "      <td>...</td>\n",
       "      <td>...</td>\n",
       "      <td>...</td>\n",
       "      <td>...</td>\n",
       "      <td>...</td>\n",
       "    </tr>\n",
       "    <tr>\n",
       "      <th>Wallis and Futuna</th>\n",
       "      <td>226</td>\n",
       "      <td>WLF</td>\n",
       "      <td>Mata-Utu</td>\n",
       "      <td>Oceania</td>\n",
       "      <td>11572.0</td>\n",
       "      <td>11655.0</td>\n",
       "      <td>12182.0</td>\n",
       "      <td>13142.0</td>\n",
       "      <td>14723.0</td>\n",
       "      <td>13454.0</td>\n",
       "      <td>11315.0</td>\n",
       "      <td>9377.0</td>\n",
       "      <td>142.0</td>\n",
       "      <td>81.4930</td>\n",
       "      <td>0.9953</td>\n",
       "      <td>0.00</td>\n",
       "    </tr>\n",
       "    <tr>\n",
       "      <th>Western Sahara</th>\n",
       "      <td>172</td>\n",
       "      <td>ESH</td>\n",
       "      <td>El Aaiún</td>\n",
       "      <td>Africa</td>\n",
       "      <td>575986.0</td>\n",
       "      <td>556048.0</td>\n",
       "      <td>491824.0</td>\n",
       "      <td>413296.0</td>\n",
       "      <td>270375.0</td>\n",
       "      <td>178529.0</td>\n",
       "      <td>116775.0</td>\n",
       "      <td>76371.0</td>\n",
       "      <td>266000.0</td>\n",
       "      <td>2.1654</td>\n",
       "      <td>1.0184</td>\n",
       "      <td>0.01</td>\n",
       "    </tr>\n",
       "    <tr>\n",
       "      <th>Yemen</th>\n",
       "      <td>46</td>\n",
       "      <td>YEM</td>\n",
       "      <td>Sanaa</td>\n",
       "      <td>Asia</td>\n",
       "      <td>33696614.0</td>\n",
       "      <td>32284046.0</td>\n",
       "      <td>28516545.0</td>\n",
       "      <td>24743946.0</td>\n",
       "      <td>18628700.0</td>\n",
       "      <td>13375121.0</td>\n",
       "      <td>9204938.0</td>\n",
       "      <td>6843607.0</td>\n",
       "      <td>527968.0</td>\n",
       "      <td>63.8232</td>\n",
       "      <td>1.0217</td>\n",
       "      <td>0.42</td>\n",
       "    </tr>\n",
       "    <tr>\n",
       "      <th>Zambia</th>\n",
       "      <td>63</td>\n",
       "      <td>ZMB</td>\n",
       "      <td>Lusaka</td>\n",
       "      <td>Africa</td>\n",
       "      <td>20017675.0</td>\n",
       "      <td>18927715.0</td>\n",
       "      <td>NaN</td>\n",
       "      <td>13792086.0</td>\n",
       "      <td>9891136.0</td>\n",
       "      <td>7686401.0</td>\n",
       "      <td>5720438.0</td>\n",
       "      <td>4281671.0</td>\n",
       "      <td>752612.0</td>\n",
       "      <td>26.5976</td>\n",
       "      <td>1.0280</td>\n",
       "      <td>0.25</td>\n",
       "    </tr>\n",
       "    <tr>\n",
       "      <th>Zimbabwe</th>\n",
       "      <td>74</td>\n",
       "      <td>ZWE</td>\n",
       "      <td>Harare</td>\n",
       "      <td>Africa</td>\n",
       "      <td>16320537.0</td>\n",
       "      <td>15669666.0</td>\n",
       "      <td>14154937.0</td>\n",
       "      <td>12839771.0</td>\n",
       "      <td>11834676.0</td>\n",
       "      <td>10113893.0</td>\n",
       "      <td>7049926.0</td>\n",
       "      <td>5202918.0</td>\n",
       "      <td>390757.0</td>\n",
       "      <td>41.7665</td>\n",
       "      <td>1.0204</td>\n",
       "      <td>0.20</td>\n",
       "    </tr>\n",
       "  </tbody>\n",
       "</table>\n",
       "<p>234 rows × 16 columns</p>\n",
       "</div>"
      ],
      "text/plain": [
       "                   Rank CCA3           Capital Continent  2022 Population  \\\n",
       "Country                                                                     \n",
       "Afghanistan          36  AFG             Kabul      Asia       41128771.0   \n",
       "Albania             138  ALB            Tirana    Europe        2842321.0   \n",
       "Algeria              34  DZA           Algiers    Africa       44903225.0   \n",
       "American Samoa      213  ASM         Pago Pago   Oceania          44273.0   \n",
       "Andorra             203  AND  Andorra la Vella    Europe          79824.0   \n",
       "...                 ...  ...               ...       ...              ...   \n",
       "Wallis and Futuna   226  WLF          Mata-Utu   Oceania          11572.0   \n",
       "Western Sahara      172  ESH          El Aaiún    Africa         575986.0   \n",
       "Yemen                46  YEM             Sanaa      Asia       33696614.0   \n",
       "Zambia               63  ZMB            Lusaka    Africa       20017675.0   \n",
       "Zimbabwe             74  ZWE            Harare    Africa       16320537.0   \n",
       "\n",
       "                   2020 Population  2015 Population  2010 Population  \\\n",
       "Country                                                                \n",
       "Afghanistan             38972230.0       33753499.0       28189672.0   \n",
       "Albania                  2866849.0        2882481.0        2913399.0   \n",
       "Algeria                 43451666.0       39543154.0       35856344.0   \n",
       "American Samoa             46189.0          51368.0          54849.0   \n",
       "Andorra                    77700.0          71746.0          71519.0   \n",
       "...                            ...              ...              ...   \n",
       "Wallis and Futuna          11655.0          12182.0          13142.0   \n",
       "Western Sahara            556048.0         491824.0         413296.0   \n",
       "Yemen                   32284046.0       28516545.0       24743946.0   \n",
       "Zambia                  18927715.0              NaN       13792086.0   \n",
       "Zimbabwe                15669666.0       14154937.0       12839771.0   \n",
       "\n",
       "                   2000 Population  1990 Population  1980 Population  \\\n",
       "Country                                                                \n",
       "Afghanistan             19542982.0       10694796.0       12486631.0   \n",
       "Albania                  3182021.0        3295066.0        2941651.0   \n",
       "Algeria                 30774621.0       25518074.0       18739378.0   \n",
       "American Samoa             58230.0          47818.0          32886.0   \n",
       "Andorra                    66097.0          53569.0          35611.0   \n",
       "...                            ...              ...              ...   \n",
       "Wallis and Futuna          14723.0          13454.0          11315.0   \n",
       "Western Sahara            270375.0         178529.0         116775.0   \n",
       "Yemen                   18628700.0       13375121.0        9204938.0   \n",
       "Zambia                   9891136.0        7686401.0        5720438.0   \n",
       "Zimbabwe                11834676.0       10113893.0        7049926.0   \n",
       "\n",
       "                   1970 Population  Area (km²)  Density (per km²)  \\\n",
       "Country                                                             \n",
       "Afghanistan             10752971.0    652230.0            63.0587   \n",
       "Albania                  2324731.0     28748.0            98.8702   \n",
       "Algeria                 13795915.0   2381741.0            18.8531   \n",
       "American Samoa             27075.0       199.0           222.4774   \n",
       "Andorra                    19860.0       468.0           170.5641   \n",
       "...                            ...         ...                ...   \n",
       "Wallis and Futuna           9377.0       142.0            81.4930   \n",
       "Western Sahara             76371.0    266000.0             2.1654   \n",
       "Yemen                    6843607.0    527968.0            63.8232   \n",
       "Zambia                   4281671.0    752612.0            26.5976   \n",
       "Zimbabwe                 5202918.0    390757.0            41.7665   \n",
       "\n",
       "                   Growth Rate  World Population Percentage  \n",
       "Country                                                      \n",
       "Afghanistan             1.0257                         0.52  \n",
       "Albania                 0.9957                         0.04  \n",
       "Algeria                 1.0164                         0.56  \n",
       "American Samoa          0.9831                         0.00  \n",
       "Andorra                 1.0100                         0.00  \n",
       "...                        ...                          ...  \n",
       "Wallis and Futuna       0.9953                         0.00  \n",
       "Western Sahara          1.0184                         0.01  \n",
       "Yemen                   1.0217                         0.42  \n",
       "Zambia                  1.0280                         0.25  \n",
       "Zimbabwe                1.0204                         0.20  \n",
       "\n",
       "[234 rows x 16 columns]"
      ]
     },
     "execution_count": 27,
     "metadata": {},
     "output_type": "execute_result"
    }
   ],
   "source": [
    "df2 = df.set_index('Country')\n",
    "df2"
   ]
  },
  {
   "cell_type": "code",
   "execution_count": 33,
   "id": "a19fd922",
   "metadata": {},
   "outputs": [
    {
     "data": {
      "text/html": [
       "<div>\n",
       "<style scoped>\n",
       "    .dataframe tbody tr th:only-of-type {\n",
       "        vertical-align: middle;\n",
       "    }\n",
       "\n",
       "    .dataframe tbody tr th {\n",
       "        vertical-align: top;\n",
       "    }\n",
       "\n",
       "    .dataframe thead th {\n",
       "        text-align: right;\n",
       "    }\n",
       "</style>\n",
       "<table border=\"1\" class=\"dataframe\">\n",
       "  <thead>\n",
       "    <tr style=\"text-align: right;\">\n",
       "      <th></th>\n",
       "      <th>Continent</th>\n",
       "      <th>CCA3</th>\n",
       "    </tr>\n",
       "    <tr>\n",
       "      <th>Country</th>\n",
       "      <th></th>\n",
       "      <th></th>\n",
       "    </tr>\n",
       "  </thead>\n",
       "  <tbody>\n",
       "    <tr>\n",
       "      <th>Afghanistan</th>\n",
       "      <td>Asia</td>\n",
       "      <td>AFG</td>\n",
       "    </tr>\n",
       "    <tr>\n",
       "      <th>Albania</th>\n",
       "      <td>Europe</td>\n",
       "      <td>ALB</td>\n",
       "    </tr>\n",
       "    <tr>\n",
       "      <th>Algeria</th>\n",
       "      <td>Africa</td>\n",
       "      <td>DZA</td>\n",
       "    </tr>\n",
       "    <tr>\n",
       "      <th>American Samoa</th>\n",
       "      <td>Oceania</td>\n",
       "      <td>ASM</td>\n",
       "    </tr>\n",
       "    <tr>\n",
       "      <th>Andorra</th>\n",
       "      <td>Europe</td>\n",
       "      <td>AND</td>\n",
       "    </tr>\n",
       "    <tr>\n",
       "      <th>...</th>\n",
       "      <td>...</td>\n",
       "      <td>...</td>\n",
       "    </tr>\n",
       "    <tr>\n",
       "      <th>Wallis and Futuna</th>\n",
       "      <td>Oceania</td>\n",
       "      <td>WLF</td>\n",
       "    </tr>\n",
       "    <tr>\n",
       "      <th>Western Sahara</th>\n",
       "      <td>Africa</td>\n",
       "      <td>ESH</td>\n",
       "    </tr>\n",
       "    <tr>\n",
       "      <th>Yemen</th>\n",
       "      <td>Asia</td>\n",
       "      <td>YEM</td>\n",
       "    </tr>\n",
       "    <tr>\n",
       "      <th>Zambia</th>\n",
       "      <td>Africa</td>\n",
       "      <td>ZMB</td>\n",
       "    </tr>\n",
       "    <tr>\n",
       "      <th>Zimbabwe</th>\n",
       "      <td>Africa</td>\n",
       "      <td>ZWE</td>\n",
       "    </tr>\n",
       "  </tbody>\n",
       "</table>\n",
       "<p>234 rows × 2 columns</p>\n",
       "</div>"
      ],
      "text/plain": [
       "                  Continent CCA3\n",
       "Country                         \n",
       "Afghanistan            Asia  AFG\n",
       "Albania              Europe  ALB\n",
       "Algeria              Africa  DZA\n",
       "American Samoa      Oceania  ASM\n",
       "Andorra              Europe  AND\n",
       "...                     ...  ...\n",
       "Wallis and Futuna   Oceania  WLF\n",
       "Western Sahara       Africa  ESH\n",
       "Yemen                  Asia  YEM\n",
       "Zambia               Africa  ZMB\n",
       "Zimbabwe             Africa  ZWE\n",
       "\n",
       "[234 rows x 2 columns]"
      ]
     },
     "execution_count": 33,
     "metadata": {},
     "output_type": "execute_result"
    }
   ],
   "source": [
    "df2.filter(items = ['Continent','CCA3'],axis = 1)"
   ]
  },
  {
   "cell_type": "code",
   "execution_count": 37,
   "id": "a41c5432",
   "metadata": {},
   "outputs": [
    {
     "data": {
      "text/html": [
       "<div>\n",
       "<style scoped>\n",
       "    .dataframe tbody tr th:only-of-type {\n",
       "        vertical-align: middle;\n",
       "    }\n",
       "\n",
       "    .dataframe tbody tr th {\n",
       "        vertical-align: top;\n",
       "    }\n",
       "\n",
       "    .dataframe thead th {\n",
       "        text-align: right;\n",
       "    }\n",
       "</style>\n",
       "<table border=\"1\" class=\"dataframe\">\n",
       "  <thead>\n",
       "    <tr style=\"text-align: right;\">\n",
       "      <th></th>\n",
       "      <th>Rank</th>\n",
       "      <th>CCA3</th>\n",
       "      <th>Capital</th>\n",
       "      <th>Continent</th>\n",
       "      <th>2022 Population</th>\n",
       "      <th>2020 Population</th>\n",
       "      <th>2015 Population</th>\n",
       "      <th>2010 Population</th>\n",
       "      <th>2000 Population</th>\n",
       "      <th>1990 Population</th>\n",
       "      <th>1980 Population</th>\n",
       "      <th>1970 Population</th>\n",
       "      <th>Area (km²)</th>\n",
       "      <th>Density (per km²)</th>\n",
       "      <th>Growth Rate</th>\n",
       "      <th>World Population Percentage</th>\n",
       "    </tr>\n",
       "    <tr>\n",
       "      <th>Country</th>\n",
       "      <th></th>\n",
       "      <th></th>\n",
       "      <th></th>\n",
       "      <th></th>\n",
       "      <th></th>\n",
       "      <th></th>\n",
       "      <th></th>\n",
       "      <th></th>\n",
       "      <th></th>\n",
       "      <th></th>\n",
       "      <th></th>\n",
       "      <th></th>\n",
       "      <th></th>\n",
       "      <th></th>\n",
       "      <th></th>\n",
       "      <th></th>\n",
       "    </tr>\n",
       "  </thead>\n",
       "  <tbody>\n",
       "    <tr>\n",
       "      <th>United Arab Emirates</th>\n",
       "      <td>97</td>\n",
       "      <td>ARE</td>\n",
       "      <td>Abu Dhabi</td>\n",
       "      <td>Asia</td>\n",
       "      <td>9441129.0</td>\n",
       "      <td>9287289.0</td>\n",
       "      <td>8916899.0</td>\n",
       "      <td>8481771.0</td>\n",
       "      <td>3275333.0</td>\n",
       "      <td>1900151.0</td>\n",
       "      <td>1014048.0</td>\n",
       "      <td>298084.0</td>\n",
       "      <td>83600.0</td>\n",
       "      <td>112.9322</td>\n",
       "      <td>1.0081</td>\n",
       "      <td>0.12</td>\n",
       "    </tr>\n",
       "    <tr>\n",
       "      <th>United Kingdom</th>\n",
       "      <td>21</td>\n",
       "      <td>GBR</td>\n",
       "      <td>London</td>\n",
       "      <td>Europe</td>\n",
       "      <td>67508936.0</td>\n",
       "      <td>67059474.0</td>\n",
       "      <td>65224364.0</td>\n",
       "      <td>62760039.0</td>\n",
       "      <td>58850043.0</td>\n",
       "      <td>57210442.0</td>\n",
       "      <td>56326328.0</td>\n",
       "      <td>55650166.0</td>\n",
       "      <td>242900.0</td>\n",
       "      <td>277.9289</td>\n",
       "      <td>1.0034</td>\n",
       "      <td>0.85</td>\n",
       "    </tr>\n",
       "    <tr>\n",
       "      <th>United States</th>\n",
       "      <td>3</td>\n",
       "      <td>USA</td>\n",
       "      <td>Washington, D.C.</td>\n",
       "      <td>North America</td>\n",
       "      <td>338289857.0</td>\n",
       "      <td>335942003.0</td>\n",
       "      <td>324607776.0</td>\n",
       "      <td>311182845.0</td>\n",
       "      <td>282398554.0</td>\n",
       "      <td>248083732.0</td>\n",
       "      <td>223140018.0</td>\n",
       "      <td>200328340.0</td>\n",
       "      <td>9372610.0</td>\n",
       "      <td>36.0935</td>\n",
       "      <td>1.0038</td>\n",
       "      <td>4.24</td>\n",
       "    </tr>\n",
       "    <tr>\n",
       "      <th>United States Virgin Islands</th>\n",
       "      <td>200</td>\n",
       "      <td>VIR</td>\n",
       "      <td>Charlotte Amalie</td>\n",
       "      <td>North America</td>\n",
       "      <td>99465.0</td>\n",
       "      <td>100442.0</td>\n",
       "      <td>102803.0</td>\n",
       "      <td>106142.0</td>\n",
       "      <td>108185.0</td>\n",
       "      <td>100685.0</td>\n",
       "      <td>96640.0</td>\n",
       "      <td>63446.0</td>\n",
       "      <td>347.0</td>\n",
       "      <td>286.6427</td>\n",
       "      <td>0.9937</td>\n",
       "      <td>0.00</td>\n",
       "    </tr>\n",
       "  </tbody>\n",
       "</table>\n",
       "</div>"
      ],
      "text/plain": [
       "                              Rank CCA3           Capital      Continent  \\\n",
       "Country                                                                    \n",
       "United Arab Emirates            97  ARE         Abu Dhabi           Asia   \n",
       "United Kingdom                  21  GBR            London         Europe   \n",
       "United States                    3  USA  Washington, D.C.  North America   \n",
       "United States Virgin Islands   200  VIR  Charlotte Amalie  North America   \n",
       "\n",
       "                              2022 Population  2020 Population  \\\n",
       "Country                                                          \n",
       "United Arab Emirates                9441129.0        9287289.0   \n",
       "United Kingdom                     67508936.0       67059474.0   \n",
       "United States                     338289857.0      335942003.0   \n",
       "United States Virgin Islands          99465.0         100442.0   \n",
       "\n",
       "                              2015 Population  2010 Population  \\\n",
       "Country                                                          \n",
       "United Arab Emirates                8916899.0        8481771.0   \n",
       "United Kingdom                     65224364.0       62760039.0   \n",
       "United States                     324607776.0      311182845.0   \n",
       "United States Virgin Islands         102803.0         106142.0   \n",
       "\n",
       "                              2000 Population  1990 Population  \\\n",
       "Country                                                          \n",
       "United Arab Emirates                3275333.0        1900151.0   \n",
       "United Kingdom                     58850043.0       57210442.0   \n",
       "United States                     282398554.0      248083732.0   \n",
       "United States Virgin Islands         108185.0         100685.0   \n",
       "\n",
       "                              1980 Population  1970 Population  Area (km²)  \\\n",
       "Country                                                                      \n",
       "United Arab Emirates                1014048.0         298084.0     83600.0   \n",
       "United Kingdom                     56326328.0       55650166.0    242900.0   \n",
       "United States                     223140018.0      200328340.0   9372610.0   \n",
       "United States Virgin Islands          96640.0          63446.0       347.0   \n",
       "\n",
       "                              Density (per km²)  Growth Rate  \\\n",
       "Country                                                        \n",
       "United Arab Emirates                   112.9322       1.0081   \n",
       "United Kingdom                         277.9289       1.0034   \n",
       "United States                           36.0935       1.0038   \n",
       "United States Virgin Islands           286.6427       0.9937   \n",
       "\n",
       "                              World Population Percentage  \n",
       "Country                                                    \n",
       "United Arab Emirates                                 0.12  \n",
       "United Kingdom                                       0.85  \n",
       "United States                                        4.24  \n",
       "United States Virgin Islands                         0.00  "
      ]
     },
     "execution_count": 37,
     "metadata": {},
     "output_type": "execute_result"
    }
   ],
   "source": [
    "df2.filter(like = 'United',axis = 0)"
   ]
  },
  {
   "cell_type": "code",
   "execution_count": 38,
   "id": "59001ec8",
   "metadata": {},
   "outputs": [
    {
     "data": {
      "text/plain": [
       "Rank                                          3\n",
       "CCA3                                        USA\n",
       "Capital                        Washington, D.C.\n",
       "Continent                         North America\n",
       "2022 Population                     338289857.0\n",
       "2020 Population                     335942003.0\n",
       "2015 Population                     324607776.0\n",
       "2010 Population                     311182845.0\n",
       "2000 Population                     282398554.0\n",
       "1990 Population                     248083732.0\n",
       "1980 Population                     223140018.0\n",
       "1970 Population                     200328340.0\n",
       "Area (km²)                            9372610.0\n",
       "Density (per km²)                       36.0935\n",
       "Growth Rate                              1.0038\n",
       "World Population Percentage                4.24\n",
       "Name: United States, dtype: object"
      ]
     },
     "execution_count": 38,
     "metadata": {},
     "output_type": "execute_result"
    }
   ],
   "source": [
    "df2.loc['United States']"
   ]
  },
  {
   "cell_type": "code",
   "execution_count": 41,
   "id": "3caefc29",
   "metadata": {},
   "outputs": [
    {
     "data": {
      "text/plain": [
       "Rank                                 213\n",
       "CCA3                                 ASM\n",
       "Capital                        Pago Pago\n",
       "Continent                        Oceania\n",
       "2022 Population                  44273.0\n",
       "2020 Population                  46189.0\n",
       "2015 Population                  51368.0\n",
       "2010 Population                  54849.0\n",
       "2000 Population                  58230.0\n",
       "1990 Population                  47818.0\n",
       "1980 Population                  32886.0\n",
       "1970 Population                  27075.0\n",
       "Area (km²)                         199.0\n",
       "Density (per km²)               222.4774\n",
       "Growth Rate                       0.9831\n",
       "World Population Percentage          0.0\n",
       "Name: American Samoa, dtype: object"
      ]
     },
     "execution_count": 41,
     "metadata": {},
     "output_type": "execute_result"
    }
   ],
   "source": [
    "df2.iloc[3]"
   ]
  },
  {
   "cell_type": "code",
   "execution_count": null,
   "id": "bc0b6a9b",
   "metadata": {},
   "outputs": [],
   "source": []
  },
  {
   "cell_type": "code",
   "execution_count": null,
   "id": "8fc22617",
   "metadata": {},
   "outputs": [],
   "source": []
  },
  {
   "cell_type": "code",
   "execution_count": null,
   "id": "5afb6da3",
   "metadata": {},
   "outputs": [],
   "source": []
  },
  {
   "cell_type": "code",
   "execution_count": null,
   "id": "c6840342",
   "metadata": {},
   "outputs": [],
   "source": []
  },
  {
   "cell_type": "code",
   "execution_count": null,
   "id": "69cd5615",
   "metadata": {},
   "outputs": [],
   "source": []
  },
  {
   "cell_type": "code",
   "execution_count": null,
   "id": "c5f7af91",
   "metadata": {},
   "outputs": [],
   "source": []
  },
  {
   "cell_type": "code",
   "execution_count": null,
   "id": "b98e6909",
   "metadata": {},
   "outputs": [],
   "source": []
  },
  {
   "cell_type": "code",
   "execution_count": null,
   "id": "aeeaafa3",
   "metadata": {},
   "outputs": [],
   "source": []
  },
  {
   "cell_type": "code",
   "execution_count": null,
   "id": "a4e1f609",
   "metadata": {},
   "outputs": [],
   "source": []
  },
  {
   "cell_type": "code",
   "execution_count": null,
   "id": "4218a966",
   "metadata": {},
   "outputs": [],
   "source": []
  },
  {
   "cell_type": "code",
   "execution_count": null,
   "id": "a26e5e57",
   "metadata": {},
   "outputs": [],
   "source": []
  },
  {
   "cell_type": "code",
   "execution_count": null,
   "id": "99552918",
   "metadata": {},
   "outputs": [],
   "source": []
  },
  {
   "cell_type": "code",
   "execution_count": null,
   "id": "85bdc007",
   "metadata": {},
   "outputs": [],
   "source": []
  },
  {
   "cell_type": "code",
   "execution_count": null,
   "id": "bc5a27a9",
   "metadata": {},
   "outputs": [],
   "source": []
  },
  {
   "cell_type": "code",
   "execution_count": null,
   "id": "036f8b62",
   "metadata": {},
   "outputs": [],
   "source": []
  },
  {
   "cell_type": "code",
   "execution_count": null,
   "id": "da4da0db",
   "metadata": {},
   "outputs": [],
   "source": []
  },
  {
   "cell_type": "code",
   "execution_count": null,
   "id": "30c823de",
   "metadata": {},
   "outputs": [],
   "source": []
  },
  {
   "cell_type": "code",
   "execution_count": null,
   "id": "02a6d3b0",
   "metadata": {},
   "outputs": [],
   "source": []
  },
  {
   "cell_type": "code",
   "execution_count": null,
   "id": "eb1f8abc",
   "metadata": {},
   "outputs": [],
   "source": []
  },
  {
   "cell_type": "code",
   "execution_count": null,
   "id": "29f634ae",
   "metadata": {},
   "outputs": [],
   "source": []
  },
  {
   "cell_type": "code",
   "execution_count": null,
   "id": "72759771",
   "metadata": {},
   "outputs": [],
   "source": []
  },
  {
   "cell_type": "code",
   "execution_count": null,
   "id": "588f08ca",
   "metadata": {},
   "outputs": [],
   "source": []
  },
  {
   "cell_type": "code",
   "execution_count": null,
   "id": "04192818",
   "metadata": {},
   "outputs": [],
   "source": []
  },
  {
   "cell_type": "code",
   "execution_count": null,
   "id": "7decca6f",
   "metadata": {},
   "outputs": [],
   "source": []
  },
  {
   "cell_type": "code",
   "execution_count": null,
   "id": "e71ba5e1",
   "metadata": {},
   "outputs": [],
   "source": []
  },
  {
   "cell_type": "code",
   "execution_count": null,
   "id": "bf302549",
   "metadata": {},
   "outputs": [],
   "source": []
  },
  {
   "cell_type": "code",
   "execution_count": null,
   "id": "dfb48cfb",
   "metadata": {},
   "outputs": [],
   "source": []
  },
  {
   "cell_type": "code",
   "execution_count": null,
   "id": "f09c8310",
   "metadata": {},
   "outputs": [],
   "source": []
  },
  {
   "cell_type": "code",
   "execution_count": null,
   "id": "1c3fc234",
   "metadata": {},
   "outputs": [],
   "source": []
  },
  {
   "cell_type": "code",
   "execution_count": null,
   "id": "7070857e",
   "metadata": {},
   "outputs": [],
   "source": []
  },
  {
   "cell_type": "code",
   "execution_count": null,
   "id": "15ceba6c",
   "metadata": {},
   "outputs": [],
   "source": []
  },
  {
   "cell_type": "code",
   "execution_count": null,
   "id": "f30306eb",
   "metadata": {},
   "outputs": [],
   "source": []
  },
  {
   "cell_type": "code",
   "execution_count": null,
   "id": "c5338737",
   "metadata": {},
   "outputs": [],
   "source": []
  },
  {
   "cell_type": "code",
   "execution_count": null,
   "id": "716b8374",
   "metadata": {},
   "outputs": [],
   "source": []
  },
  {
   "cell_type": "code",
   "execution_count": null,
   "id": "fa50e80a",
   "metadata": {},
   "outputs": [],
   "source": []
  },
  {
   "cell_type": "code",
   "execution_count": null,
   "id": "efd0fff5",
   "metadata": {},
   "outputs": [],
   "source": []
  },
  {
   "cell_type": "code",
   "execution_count": null,
   "id": "92c31b8a",
   "metadata": {},
   "outputs": [],
   "source": []
  },
  {
   "cell_type": "code",
   "execution_count": null,
   "id": "ef924e67",
   "metadata": {},
   "outputs": [],
   "source": []
  },
  {
   "cell_type": "code",
   "execution_count": null,
   "id": "51b711d9",
   "metadata": {},
   "outputs": [],
   "source": []
  },
  {
   "cell_type": "code",
   "execution_count": null,
   "id": "22892ac4",
   "metadata": {},
   "outputs": [],
   "source": []
  },
  {
   "cell_type": "code",
   "execution_count": null,
   "id": "ec110738",
   "metadata": {},
   "outputs": [],
   "source": []
  },
  {
   "cell_type": "code",
   "execution_count": null,
   "id": "da6e8a45",
   "metadata": {},
   "outputs": [],
   "source": []
  },
  {
   "cell_type": "code",
   "execution_count": null,
   "id": "c1e73eab",
   "metadata": {},
   "outputs": [],
   "source": []
  },
  {
   "cell_type": "code",
   "execution_count": null,
   "id": "04dfb08a",
   "metadata": {},
   "outputs": [],
   "source": []
  },
  {
   "cell_type": "code",
   "execution_count": null,
   "id": "5eede3be",
   "metadata": {},
   "outputs": [],
   "source": []
  },
  {
   "cell_type": "code",
   "execution_count": null,
   "id": "f42be78b",
   "metadata": {},
   "outputs": [],
   "source": []
  },
  {
   "cell_type": "code",
   "execution_count": null,
   "id": "a3224549",
   "metadata": {},
   "outputs": [],
   "source": []
  },
  {
   "cell_type": "code",
   "execution_count": null,
   "id": "80f48947",
   "metadata": {},
   "outputs": [],
   "source": []
  },
  {
   "cell_type": "code",
   "execution_count": null,
   "id": "9fedc468",
   "metadata": {},
   "outputs": [],
   "source": []
  },
  {
   "cell_type": "code",
   "execution_count": null,
   "id": "a9879cd6",
   "metadata": {},
   "outputs": [],
   "source": []
  },
  {
   "cell_type": "code",
   "execution_count": null,
   "id": "155017d9",
   "metadata": {},
   "outputs": [],
   "source": []
  },
  {
   "cell_type": "code",
   "execution_count": null,
   "id": "e112d8cb",
   "metadata": {},
   "outputs": [],
   "source": []
  },
  {
   "cell_type": "code",
   "execution_count": null,
   "id": "a1fbae65",
   "metadata": {},
   "outputs": [],
   "source": []
  },
  {
   "cell_type": "code",
   "execution_count": null,
   "id": "4d12e077",
   "metadata": {},
   "outputs": [],
   "source": []
  },
  {
   "cell_type": "code",
   "execution_count": null,
   "id": "ed2190df",
   "metadata": {},
   "outputs": [],
   "source": []
  },
  {
   "cell_type": "code",
   "execution_count": null,
   "id": "d68cb8eb",
   "metadata": {},
   "outputs": [],
   "source": []
  },
  {
   "cell_type": "code",
   "execution_count": null,
   "id": "3aa4a88a",
   "metadata": {},
   "outputs": [],
   "source": []
  },
  {
   "cell_type": "code",
   "execution_count": null,
   "id": "a6d5b1a1",
   "metadata": {},
   "outputs": [],
   "source": []
  },
  {
   "cell_type": "code",
   "execution_count": null,
   "id": "50f553c0",
   "metadata": {},
   "outputs": [],
   "source": []
  },
  {
   "cell_type": "code",
   "execution_count": null,
   "id": "f60550a8",
   "metadata": {},
   "outputs": [],
   "source": []
  },
  {
   "cell_type": "code",
   "execution_count": null,
   "id": "4b1a9cdf",
   "metadata": {},
   "outputs": [],
   "source": []
  },
  {
   "cell_type": "code",
   "execution_count": null,
   "id": "b20ad2e8",
   "metadata": {},
   "outputs": [],
   "source": []
  },
  {
   "cell_type": "code",
   "execution_count": null,
   "id": "67594b1a",
   "metadata": {},
   "outputs": [],
   "source": []
  },
  {
   "cell_type": "code",
   "execution_count": null,
   "id": "8cd34084",
   "metadata": {},
   "outputs": [],
   "source": []
  }
 ],
 "metadata": {
  "kernelspec": {
   "display_name": "Python 3 (ipykernel)",
   "language": "python",
   "name": "python3"
  },
  "language_info": {
   "codemirror_mode": {
    "name": "ipython",
    "version": 3
   },
   "file_extension": ".py",
   "mimetype": "text/x-python",
   "name": "python",
   "nbconvert_exporter": "python",
   "pygments_lexer": "ipython3",
   "version": "3.11.4"
  }
 },
 "nbformat": 4,
 "nbformat_minor": 5
}
